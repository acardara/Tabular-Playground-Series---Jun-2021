{
  "nbformat": 4,
  "nbformat_minor": 0,
  "metadata": {
    "colab": {
      "name": "Tabular Playground Series - Jun 2021 [acardara]",
      "provenance": [],
      "collapsed_sections": [],
      "include_colab_link": true
    },
    "kernelspec": {
      "name": "python3",
      "display_name": "Python 3"
    },
    "language_info": {
      "name": "python"
    }
  },
  "cells": [
    {
      "cell_type": "markdown",
      "metadata": {
        "id": "view-in-github",
        "colab_type": "text"
      },
      "source": [
        "<a href=\"https://colab.research.google.com/github/AlexanderCardarasUCSC/Tabular-Playground-Series---Jun-2021/blob/main/Tabular_Playground_Series_Jun_2021_%5Bacardara%5D%20(6-16).ipynb\" target=\"_parent\"><img src=\"https://colab.research.google.com/assets/colab-badge.svg\" alt=\"Open In Colab\"/></a>"
      ]
    },
    {
      "cell_type": "markdown",
      "metadata": {
        "id": "Ti90w18y-uM7"
      },
      "source": [
        "### Introuction/Load Data"
      ]
    },
    {
      "cell_type": "markdown",
      "metadata": {
        "id": "f77-1WvV4cA8"
      },
      "source": [
        "Code entry for the **Tabular Playground Series - Jun 2021** kaggle competition.\n",
        "\n",
        "https://www.kaggle.com/c/tabular-playground-series-jun-2021/overview\n",
        "\n",
        "\n",
        "\n",
        "Inspiration for the code from the keras functional_api guide.\n",
        "\n",
        "https://keras.io/guides/functional_api/.\n"
      ]
    },
    {
      "cell_type": "code",
      "metadata": {
        "colab": {
          "base_uri": "https://localhost:8080/"
        },
        "id": "syOJbPyglvrw",
        "outputId": "3fe86465-33a5-4315-fe2c-4d77cb81fe49"
      },
      "source": [
        "# mount google drive to download dataset\n",
        "from google.colab import drive\n",
        "drive.mount(\"/content/gdrive\")"
      ],
      "execution_count": 4,
      "outputs": [
        {
          "output_type": "stream",
          "text": [
            "Mounted at /content/gdrive\n"
          ],
          "name": "stdout"
        }
      ]
    },
    {
      "cell_type": "code",
      "metadata": {
        "id": "GFk07fPWmL_D",
        "outputId": "aa06f72f-d1c7-4e0d-ad52-7c81f2c80139",
        "colab": {
          "base_uri": "https://localhost:8080/"
        }
      },
      "source": [
        "# create a folder to store dataset files\n",
        "!mkdir /content/dataset\n",
        "\n",
        "# copy dataset from google drive\n",
        "!cp /content/gdrive/MyDrive/kaggle/train.csv /content/dataset\n",
        "!cp /content/gdrive/MyDrive/kaggle/test.csv /content/dataset"
      ],
      "execution_count": 5,
      "outputs": [
        {
          "output_type": "stream",
          "text": [
            "mkdir: cannot create directory ‘/content/dataset’: File exists\n"
          ],
          "name": "stdout"
        }
      ]
    },
    {
      "cell_type": "code",
      "metadata": {
        "colab": {
          "base_uri": "https://localhost:8080/"
        },
        "id": "hZymkdKknKX0",
        "outputId": "0e0af542-a44b-47d0-8f85-3542ea9a1b29"
      },
      "source": [
        "import pandas as pd\n",
        "import numpy as np\n",
        "\n",
        "\n",
        "def create_dictionary(dataset):\n",
        "  dictionary = {}\n",
        "  labels = [\"Class_1\", \"Class_2\", \"Class_3\", \"Class_4\", \"Class_5\", \"Class_6\", \"Class_7\", \"Class_8\", \"Class_9\"]\n",
        "  for label in labels:\n",
        "    dictionary[label] = []\n",
        "\n",
        "  for i in range(dataset.shape[0]):\n",
        "    row = dataset[i]\n",
        "    dictionary[row[-1]].append(row[1:-1])\n",
        "\n",
        "  for label in labels:\n",
        "    dictionary[label] = np.asarray(dictionary[label])\n",
        "\n",
        "  return dictionary\n",
        "\n",
        "\n",
        "raw_dataset = pd.read_csv(\"/content/dataset/train.csv\", header=0)\n",
        "\n",
        "dataset_train = raw_dataset.to_numpy()[0:140_000]\n",
        "dataset_train = create_dictionary(dataset_train)\n",
        "\n",
        "dataset_validation = raw_dataset.to_numpy()[140_000:]\n",
        "dataset_validation = create_dictionary(dataset_validation)\n",
        "\n",
        "# print(dataset_train.shape)\n",
        "# print(dataset_validation.shape)\n",
        "\n",
        "raw_testset = pd.read_csv(\"/content/dataset/test.csv\", header=0)\n",
        "raw_testset = raw_testset.to_numpy()\n",
        "print(raw_testset.shape)"
      ],
      "execution_count": 3,
      "outputs": [
        {
          "output_type": "stream",
          "text": [
            "(100000, 76)\n"
          ],
          "name": "stdout"
        }
      ]
    },
    {
      "cell_type": "markdown",
      "metadata": {
        "id": "ch-L8LPG-1O1"
      },
      "source": [
        "### Training Loop"
      ]
    },
    {
      "cell_type": "code",
      "metadata": {
        "id": "UVXp8SKcojCu"
      },
      "source": [
        "from tensorflow import keras\n",
        "from tensorflow.keras.utils import to_categorical\n",
        "\n",
        "NUMBER_OF_CLASSES = 9\n",
        "SUMMARIZE_AFTER = 1\n",
        "\n",
        "# applying to_categorical is currently causing an error, \n",
        "# TODO: implement it correctly\n",
        "def string_to_categorical(labels):\n",
        "  new_labels = []\n",
        "  for label in labels:\n",
        "    # we want the 6th character of each class label string ie 'Class_7' should \n",
        "    # convert to '7'\n",
        "\n",
        "    # to_categorical expects values to start from 0, dataset is in range [1,9]\n",
        "    # we must subtract 1 from class labels for training to get the range [0,8]\n",
        "    new_labels.append(int(label[0][6])-1)\n",
        "  new_labels = np.asarray(new_labels)\n",
        "  # return to_categorical(new_labels, NUMBER_OF_CLASSES)\n",
        "  return new_labels\n",
        "\n",
        "def unison_shuffled_copies(a, b):\n",
        "  assert len(a) == len(b)\n",
        "  p = np.random.permutation(len(a))\n",
        "  return a[p], b[p]\n",
        "\n",
        "# TODO: use non-random class selection\n",
        "def generate_training_samples(dataset, n_samples):\n",
        "  samples_per_class = n_samples//NUMBER_OF_CLASSES\n",
        "\n",
        "  train_x = []\n",
        "  train_y = []\n",
        "  \n",
        "  for key in dataset:\n",
        "    # rows = [np.random.randint(0,len(dataset[key])) for _ in range(samples_per_class)]\n",
        "    rows = np.random.permutation(len(dataset[key]))[0:samples_per_class]\n",
        "\n",
        "    for data in dataset[key][rows]:\n",
        "      train_x.append(data)\n",
        "      train_y.append(int(key[-1])-1)\n",
        "\n",
        "  train_x = np.asarray(train_x).astype(\"float32\")\n",
        "  train_y = np.asarray(train_y).astype(\"float32\")\n",
        "\n",
        "  train_x, train_y = unison_shuffled_copies(train_x, train_y)\n",
        "  # print(train_x, train_y)\n",
        "\n",
        "  # train_y = samples[:,-1:]\n",
        "  # train_y = string_to_categorical(train_y).astype(\"float32\")\n",
        "  return train_x, train_y\n",
        "\n",
        "# print accuracy of holdout dataset\n",
        "def summarize_performance(dataset_validation, model, epoch):\n",
        "  train_x, train_y = generate_training_samples(dataset_validation, 60_000)\n",
        "  _loss, _accuracy = model.evaluate(train_x, train_y)\n",
        "  validation_loss.append(_loss)\n",
        "\n",
        "def train(dataset_train, dataset_validation, model, n_epochs, batch_size):\n",
        "  iterations_per_epoch = 140_000\n",
        "  batches_per_epoch = iterations_per_epoch//batch_size\n",
        "  for epoch in range(n_epochs):\n",
        "    temp_train_loss = []\n",
        "    for batch in range(batches_per_epoch):\n",
        "        train_x, train_y = generate_training_samples(dataset_train, batch_size)\n",
        "\n",
        "        _loss, _accuracy = model.train_on_batch(train_x, train_y)\n",
        "        temp_train_loss.append(_loss)\n",
        "\n",
        "        # print metrics every once in a while\n",
        "        if batch % 200 == 0:\n",
        "          print(\">%d %d/%d, %.3f, %.3f\"%(epoch, batch, batches_per_epoch, _loss, _accuracy))\n",
        "    if (epoch+1) % SUMMARIZE_AFTER == 0:\n",
        "      train_loss.append(sum(temp_train_loss)/len(temp_train_loss))\n",
        "      summarize_performance(dataset_validation, model, epoch)\n",
        "\n"
      ],
      "execution_count": 18,
      "outputs": []
    },
    {
      "cell_type": "markdown",
      "metadata": {
        "id": "tLjWd7qO_A5G"
      },
      "source": [
        "### Models"
      ]
    },
    {
      "cell_type": "code",
      "metadata": {
        "id": "HeWWVGTB_AaO"
      },
      "source": [
        "from tensorflow.keras.layers import Dense\n",
        "from tensorflow.keras.layers import Reshape\n",
        "from tensorflow.keras.layers import Dropout\n",
        "from tensorflow.keras.layers import Conv1D\n",
        "from tensorflow.keras.layers import Conv2D\n",
        "from tensorflow.keras.layers import Flatten\n",
        "from tensorflow.keras.layers import BatchNormalization\n",
        "from tensorflow.keras.layers import Activation\n",
        "from tensorflow.keras import Input\n",
        "from tensorflow.keras import Model\n",
        "from tensorflow.keras.losses import SparseCategoricalCrossentropy\n",
        "from tensorflow.keras.optimizers import Adam\n",
        "\n",
        "def define_baseline_model():\n",
        "  input_layer = Input(shape=(75,), name=\"First_Layer\")\n",
        "\n",
        "  output_layer = Dense(128, activation=\"relu\")(input_layer)\n",
        "  output_layer = Dropout(0.4)(output_layer)\n",
        "  \n",
        "  output_layer = Dense(64, activation=\"relu\")(output_layer)\n",
        "\n",
        "  output_layer = Dense(NUMBER_OF_CLASSES, activation=\"softmax\")(output_layer)\n",
        "  \n",
        "  model = Model(inputs=input_layer, outputs=output_layer, name=\"Simple_Classification_Model\")\n",
        "\n",
        "  loss = SparseCategoricalCrossentropy()\n",
        "  opt = Adam(learning_rate=0.0005, beta_1=0.5)\n",
        "  model.compile(loss=loss, optimizer=opt, metrics=[\"accuracy\"])\n",
        "  return model\n"
      ],
      "execution_count": 19,
      "outputs": []
    },
    {
      "cell_type": "markdown",
      "metadata": {
        "id": "IfoehBkU_FaJ"
      },
      "source": [
        "### Train Models"
      ]
    },
    {
      "cell_type": "code",
      "metadata": {
        "colab": {
          "base_uri": "https://localhost:8080/"
        },
        "id": "oPG2bg_Dw4Qw",
        "outputId": "19cab61b-e8a4-46f7-edf0-90242e557334"
      },
      "source": [
        "train_loss, validation_loss = [], []\n",
        "\n",
        "n_epochs = 15\n",
        "batch_size = 10000\n",
        "\n",
        "model = define_baseline_model()\n",
        "# model = define_convolutional_model()\n",
        "\n",
        "model.summary()\n",
        "train(dataset_train, dataset_validation, model, n_epochs, batch_size)"
      ],
      "execution_count": 21,
      "outputs": [
        {
          "output_type": "stream",
          "text": [
            "Model: \"Simple_Classification_Model\"\n",
            "_________________________________________________________________\n",
            "Layer (type)                 Output Shape              Param #   \n",
            "=================================================================\n",
            "First_Layer (InputLayer)     [(None, 75)]              0         \n",
            "_________________________________________________________________\n",
            "dense_18 (Dense)             (None, 128)               9728      \n",
            "_________________________________________________________________\n",
            "dropout_6 (Dropout)          (None, 128)               0         \n",
            "_________________________________________________________________\n",
            "dense_19 (Dense)             (None, 64)                8256      \n",
            "_________________________________________________________________\n",
            "dense_20 (Dense)             (None, 9)                 585       \n",
            "=================================================================\n",
            "Total params: 18,569\n",
            "Trainable params: 18,569\n",
            "Non-trainable params: 0\n",
            "_________________________________________________________________\n",
            ">0 0/14, 6.381, 0.108\n",
            "1266/1266 [==============================] - 2s 1ms/step - loss: 3.1770 - accuracy: 0.1005\n",
            ">1 0/14, 3.353, 0.103\n",
            "1266/1266 [==============================] - 1s 1ms/step - loss: 2.8390 - accuracy: 0.0983\n",
            ">2 0/14, 2.963, 0.102\n",
            "1266/1266 [==============================] - 1s 1ms/step - loss: 2.6528 - accuracy: 0.0972\n",
            ">3 0/14, 2.751, 0.101\n",
            "1266/1266 [==============================] - 1s 1ms/step - loss: 2.5267 - accuracy: 0.1007\n",
            ">4 0/14, 2.599, 0.104\n",
            "1266/1266 [==============================] - 1s 1ms/step - loss: 2.4490 - accuracy: 0.1018\n",
            ">5 0/14, 2.509, 0.105\n",
            "1266/1266 [==============================] - 1s 1ms/step - loss: 2.3868 - accuracy: 0.1036\n",
            ">6 0/14, 2.436, 0.106\n",
            "1266/1266 [==============================] - 1s 1ms/step - loss: 2.3339 - accuracy: 0.1098\n",
            ">7 0/14, 2.375, 0.112\n",
            "1266/1266 [==============================] - 1s 1ms/step - loss: 2.2989 - accuracy: 0.1142\n",
            ">8 0/14, 2.328, 0.116\n",
            "1266/1266 [==============================] - 1s 1ms/step - loss: 2.2700 - accuracy: 0.1164\n",
            ">9 0/14, 2.297, 0.119\n",
            "1266/1266 [==============================] - 1s 1ms/step - loss: 2.2462 - accuracy: 0.1210\n",
            ">10 0/14, 2.266, 0.121\n",
            "1266/1266 [==============================] - 1s 1ms/step - loss: 2.2302 - accuracy: 0.1250\n",
            ">11 0/14, 2.247, 0.126\n",
            "1266/1266 [==============================] - 1s 1ms/step - loss: 2.2186 - accuracy: 0.1325\n",
            ">12 0/14, 2.233, 0.131\n",
            "1266/1266 [==============================] - 1s 1ms/step - loss: 2.2063 - accuracy: 0.1428\n",
            ">13 0/14, 2.220, 0.140\n",
            "1266/1266 [==============================] - 1s 1ms/step - loss: 2.2007 - accuracy: 0.1497\n",
            ">14 0/14, 2.212, 0.146\n",
            "1266/1266 [==============================] - 1s 1ms/step - loss: 2.1961 - accuracy: 0.1579\n"
          ],
          "name": "stdout"
        }
      ]
    },
    {
      "cell_type": "markdown",
      "metadata": {
        "id": "SEE5sIbvpdPG"
      },
      "source": [
        "### Visualize losses"
      ]
    },
    {
      "cell_type": "code",
      "metadata": {
        "colab": {
          "base_uri": "https://localhost:8080/",
          "height": 265
        },
        "id": "jRnMb_tBMde0",
        "outputId": "44ce4e70-2181-4c3b-f34c-19f8d6d150fb"
      },
      "source": [
        "import matplotlib.pyplot as plt\n",
        "%matplotlib inline\n",
        "\n",
        "x = [SUMMARIZE_AFTER*i for i in range(len(train_loss))]\n",
        "plt.plot(x, train_loss)\n",
        "plt.plot(x, validation_loss)\n",
        "plt.show()"
      ],
      "execution_count": 6,
      "outputs": [
        {
          "output_type": "display_data",
          "data": {
            "image/png": "[encoded data removed]",
            "text/plain": [
              "<Figure size 432x288 with 1 Axes>"
            ]
          },
          "metadata": {
            "tags": [],
            "needs_background": "light"
          }
        }
      ]
    },
    {
      "cell_type": "markdown",
      "metadata": {
        "id": "ERPHrQmFnrdj"
      },
      "source": [
        "### Run Test"
      ]
    },
    {
      "cell_type": "code",
      "metadata": {
        "id": "K3ls4OhQnyYO"
      },
      "source": [
        "import pandas as pd\n",
        "\n",
        "\n",
        "def predict_class(model, features):\n",
        "  features = np.expand_dims(features, axis=0)\n",
        "  return model.predict(features)\n",
        "\n",
        "def predict_testset(model, testset):\n",
        "  labels = [\"id\",\"Class_1\",\"Class_2\",\"Class_3\",\"Class_4\",\"Class_5\",\"Class_6\",\"Class_7\",\"Class_8\",\"Class_9\"]\n",
        "  \n",
        "  results = []\n",
        "  ids = testset[:,0]\n",
        "  ids = ids.reshape((len(ids),1));\n",
        "  ids = pd.DataFrame(data=ids, columns=[labels[0]])\n",
        "\n",
        "  data = testset[:,1:]\n",
        "  results = model.predict(data)\n",
        "  results = pd.DataFrame(data=results, columns=labels[1:])\n",
        "\n",
        "  final = pd.concat([ids, results], axis=1)\n",
        "  # final = np.hstack((ids,results))\n",
        "\n",
        "  # return pd.DataFrame(data=final, columns=labels)\n",
        "  return final\n",
        "\n",
        "\n",
        "results = predict_testset(model, raw_testset)\n",
        "results.to_csv(\"submission.csv\", index=False)\n",
        "# print(results)"
      ],
      "execution_count": null,
      "outputs": []
    },
    {
      "cell_type": "markdown",
      "metadata": {
        "id": "JZfu_PgDMrBW"
      },
      "source": [
        "### UMAP"
      ]
    },
    {
      "cell_type": "code",
      "metadata": {
        "id": "5Ct7HXMTMLxJ"
      },
      "source": [
        "!pip install umap-learn\n",
        "!pip install babyplots\n",
        "!pip install hdbscan "
      ],
      "execution_count": null,
      "outputs": []
    },
    {
      "cell_type": "code",
      "metadata": {
        "id": "GG7FnLQB6WXZ"
      },
      "source": [
        "import umap\n",
        "from sklearn.model_selection import train_test_split\n",
        "from sklearn.preprocessing import StandardScaler\n",
        "from sklearn import preprocessing\n",
        "from babyplots import Babyplot\n",
        "import hdbscan\n",
        "\n",
        "\n",
        "\n",
        "dataset = raw_dataset.to_numpy()[:,1:-1]\n",
        "labels = raw_dataset.to_numpy()[:,-1]\n",
        "\n",
        "dataset = StandardScaler().fit_transform(dataset)\n",
        "\n",
        "le = preprocessing.LabelEncoder()\n",
        "class_names = [\"Class_1\", \"Class_2\", \"Class_3\", \"Class_4\", \"Class_5\", \"Class_6\", \"Class_7\", \"Class_8\", \"Class_9\"]\n",
        "le.fit(class_names)\n",
        "labels = le.transform(labels)\n",
        "\n",
        "print(labels)\n",
        "print(dataset)\n",
        "X_train, X_test, y_train, y_test = train_test_split(dataset, labels, test_size=0.30)\n",
        "reducer2d = umap.UMAP(n_neighbors=20,\n",
        "                        min_dist=0.0,\n",
        "                        n_components=2,\n",
        "                        random_state=42, metric='euclidean', target_weight=0)\n",
        "\n",
        "reducer3d = umap.UMAP(n_neighbors=20,\n",
        "                      min_dist=0.0,\n",
        "                      n_components=3,\n",
        "                      random_state=42, metric='euclidean', target_weight=0)\n",
        "\n",
        "# mapper2d = reducer2d.fit(X_train, y_train)\n",
        "mapper3d = reducer3d.fit(X_train, y_train)\n",
        "\n",
        "# embedding2d_train = mapper2d.transform(X_train)\n",
        "embedding3d_train = mapper3d.transform(X_train)\n",
        "\n",
        "\n",
        "\n",
        "# embedding2d_test = mapper2d.transform(X_test)\n",
        "embedding3d_test = mapper3d.transform(X_test)\n",
        "\n",
        "# embedding2d = embedding2d_train.tolist() + embedding2d_test.tolist()\n",
        "embedding3d = embedding3d_train.tolist() + embedding3d_test.tolist()\n",
        "# y_test \n",
        "print(y_test.shape)\n",
        "# y_test = np.where(y_test >= 1, 'RI', 'DE')\n",
        "y_plot = y_train.tolist() + y_test.tolist()\n",
        "bp = Babyplot(background_color=\"#ffffddff\", )\n",
        "bp.add_plot(embedding3d, 'pointCloud', 'categories', y_plot, {\n",
        "    'colorScale': 'Viridis',\n",
        "    'showLegend': True,\n",
        "    'folded': True,\n",
        "    'size': 5,\n",
        "    'showAxes': [True, True, True],\n",
        "    'axisLabels': ['X', 'Y', 'Z'],\n",
        "    'showTickLines': [[True, True], [True, True], [True, True]]\n",
        "})\n",
        "bp.save_as_html(r'/content/test3.html')\n"
      ],
      "execution_count": null,
      "outputs": []
    },
    {
      "cell_type": "code",
      "metadata": {
        "id": "gU9_sM1Amhg3"
      },
      "source": [
        "import hdbscan\n",
        "from sklearn.model_selection import train_test_split\n",
        "\n",
        "\n",
        "dataset = raw_dataset.to_numpy()[:,1:-1]\n",
        "labels = raw_dataset.to_numpy()[:,-1]\n",
        "\n",
        "X_train, X_test, y_train, y_test = train_test_split(dataset, labels, test_size=0.30)"
      ],
      "execution_count": null,
      "outputs": []
    },
    {
      "cell_type": "code",
      "metadata": {
        "id": "2tFXKnlQmicB"
      },
      "source": [
        "hdbscan_labels = hdbscan.HDBSCAN(min_samples=10, min_cluster_size=500).fit_predict(X_train, y_train)"
      ],
      "execution_count": null,
      "outputs": []
    }
  ]
}