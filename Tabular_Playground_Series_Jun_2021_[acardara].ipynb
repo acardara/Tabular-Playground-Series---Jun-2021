{
  "nbformat": 4,
  "nbformat_minor": 0,
  "metadata": {
    "colab": {
      "name": "Tabular Playground Series - Jun 2021 [acardara]",
      "provenance": [],
      "collapsed_sections": [],
      "include_colab_link": true
    },
    "kernelspec": {
      "name": "python3",
      "display_name": "Python 3"
    },
    "language_info": {
      "name": "python"
    }
  },
  "cells": [
    {
      "cell_type": "markdown",
      "metadata": {
        "id": "view-in-github",
        "colab_type": "text"
      },
      "source": [
        "<a href=\"https://colab.research.google.com/github/AlexanderCardarasUCSC/Tabular-Playground-Series---Jun-2021/blob/main/Tabular_Playground_Series_Jun_2021_%5Bacardara%5D.ipynb\" target=\"_parent\"><img src=\"https://colab.research.google.com/assets/colab-badge.svg\" alt=\"Open In Colab\"/></a>"
      ]
    },
    {
      "cell_type": "markdown",
      "metadata": {
        "id": "Ti90w18y-uM7"
      },
      "source": [
        "### Introuction/Load Data"
      ]
    },
    {
      "cell_type": "markdown",
      "metadata": {
        "id": "f77-1WvV4cA8"
      },
      "source": [
        "Code entry for the **Tabular Playground Series - Jun 2021** kaggle competition.\n",
        "\n",
        "https://www.kaggle.com/c/tabular-playground-series-jun-2021/overview\n",
        "\n",
        "\n",
        "\n",
        "Inspiration for the code from the keras functional_api guide.\n",
        "\n",
        "https://keras.io/guides/functional_api/.\n"
      ]
    },
    {
      "cell_type": "code",
      "metadata": {
        "colab": {
          "base_uri": "https://localhost:8080/"
        },
        "id": "syOJbPyglvrw",
        "outputId": "bcd80cdd-cf06-4dc4-928c-8d11f941d5ab"
      },
      "source": [
        "# mount google drive to download dataset\n",
        "from google.colab import drive\n",
        "drive.mount(\"/content/gw drive\")"
      ],
      "execution_count": 1,
      "outputs": [
        {
          "output_type": "stream",
          "text": [
            "Mounted at /content/gdrive\n"
          ],
          "name": "stdout"
        }
      ]
    },
    {
      "cell_type": "code",
      "metadata": {
        "id": "GFk07fPWmL_D"
      },
      "source": [
        "# create a folder to store dataset files\n",
        "!mkdir /content/dataset\n",
        "\n",
        "# copy dataset from google drive\n",
        "!cp /content/gdrive/MyDrive/kaggle/train.csv /content/dataset\n",
        "!cp /content/gdrive/MyDrive/kaggle/test.csv /content/dataset"
      ],
      "execution_count": 2,
      "outputs": []
    },
    {
      "cell_type": "code",
      "metadata": {
        "colab": {
          "base_uri": "https://localhost:8080/"
        },
        "id": "hZymkdKknKX0",
        "outputId": "df1e509c-437e-4337-f77e-d9cf80665e1e"
      },
      "source": [
        "import pandas as pd\n",
        "import numpy as np\n",
        "\n",
        "raw_dataset = pd.read_csv(\"/content/dataset/train.csv\", header=0)\n",
        "dataset_train = raw_dataset.to_numpy()[0:140_000]\n",
        "dataset_validation = raw_dataset.to_numpy()[140_000:]\n",
        "\n",
        "print(dataset_train.shape)\n",
        "print(dataset_validation.shape)\n",
        "\n",
        "raw_testset = pd.read_csv(\"/content/dataset/test.csv\", header=0)\n",
        "raw_testset = raw_testset.to_numpy()\n",
        "print(raw_testset.shape)"
      ],
      "execution_count": 3,
      "outputs": [
        {
          "output_type": "stream",
          "text": [
            "(140000, 77)\n",
            "(60000, 77)\n",
            "(100000, 76)\n"
          ],
          "name": "stdout"
        }
      ]
    },
    {
      "cell_type": "markdown",
      "metadata": {
        "id": "ch-L8LPG-1O1"
      },
      "source": [
        "### Training Loop"
      ]
    },
    {
      "cell_type": "code",
      "metadata": {
        "id": "UVXp8SKcojCu"
      },
      "source": [
        "from tensorflow import keras\n",
        "from tensorflow.keras.utils import to_categorical\n",
        "\n",
        "NUMBER_OF_CLASSES = 9\n",
        "SUMMARIZE_AFTER = 1\n",
        "\n",
        "# applying to_categorical is currently causing an error, \n",
        "# TODO: implement it correctly\n",
        "def string_to_categorical(labels):\n",
        "  new_labels = []\n",
        "  for label in labels:\n",
        "    # we want the 6th character of each class label string ie 'Class_7' should \n",
        "    # convert to '7'\n",
        "\n",
        "    # to_categorical expects values to start from 0, dataset is in range [1,9]\n",
        "    # we must subtract 1 from class labels for training to get the range [0,8]\n",
        "    new_labels.append(int(label[0][6])-1)\n",
        "  new_labels = np.asarray(new_labels)\n",
        "  # return to_categorical(new_labels, NUMBER_OF_CLASSES)\n",
        "  return new_labels\n",
        "\n",
        "def generate_training_samples(dataset, n_samples):\n",
        "  rows = [np.random.randint(0,dataset.shape[0]) for _ in range(n_samples)]\n",
        "  samples = dataset[rows]\n",
        "\n",
        "  train_x = samples[:,1:-1].astype(\"float32\")\n",
        "  train_y = samples[:,-1:]\n",
        "  train_y = string_to_categorical(train_y).astype(\"float32\")\n",
        "  return train_x, train_y\n",
        "\n",
        "# print accuracy of holdout dataset\n",
        "def summarize_performance(dataset_validation, model, epoch):\n",
        "  train_x, train_y = generate_training_samples(dataset_validation, dataset_validation.shape[0])\n",
        "  _loss, _accuracy = model.evaluate(train_x, train_y)\n",
        "  validation_loss.append(_loss)\n",
        "\n",
        "def train(dataset_train, dataset_validation, model, n_epochs, batch_size):\n",
        "  iterations_per_epoch = dataset_train.shape[0]\n",
        "  batches_per_epoch = iterations_per_epoch//batch_size\n",
        "  for epoch in range(n_epochs):\n",
        "    temp_train_loss = []\n",
        "    for batch in range(batches_per_epoch):\n",
        "        train_x, train_y = generate_training_samples(dataset_train, batch_size)\n",
        "\n",
        "        _loss, _accuracy = model.train_on_batch(train_x, train_y)\n",
        "        temp_train_loss.append(_loss)\n",
        "\n",
        "        # print metrics every once in a while\n",
        "        if batch % 200 == 0:\n",
        "          print(\">%d %d/%d, %.3f, %.3f\"%(epoch, batch, batches_per_epoch, _loss, _accuracy))\n",
        "    if (epoch+1) % SUMMARIZE_AFTER == 0:\n",
        "      train_loss.append(sum(temp_train_loss)/len(temp_train_loss))\n",
        "      summarize_performance(dataset_validation, model, epoch)\n",
        "\n"
      ],
      "execution_count": 4,
      "outputs": []
    },
    {
      "cell_type": "markdown",
      "metadata": {
        "id": "tLjWd7qO_A5G"
      },
      "source": [
        "### Models"
      ]
    },
    {
      "cell_type": "code",
      "metadata": {
        "id": "HeWWVGTB_AaO"
      },
      "source": [
        "from tensorflow.keras.layers import Dense\n",
        "from tensorflow.keras.layers import Reshape\n",
        "from tensorflow.keras.layers import Dropout\n",
        "from tensorflow.keras.layers import Conv1D\n",
        "from tensorflow.keras.layers import Conv2D\n",
        "from tensorflow.keras.layers import Flatten\n",
        "from tensorflow.keras.layers import BatchNormalization\n",
        "from tensorflow.keras.layers import Activation\n",
        "from tensorflow.keras import Input\n",
        "from tensorflow.keras import Model\n",
        "from tensorflow.keras.losses import SparseCategoricalCrossentropy\n",
        "from tensorflow.keras.optimizers import Adam\n",
        "\n",
        "def define_baseline_model():\n",
        "  input_layer = Input(shape=(75,), name=\"First_Layer\")\n",
        "\n",
        "  output_layer = Dense(128, activation=\"relu\")(input_layer)\n",
        "  output_layer = Dropout(0.4)(output_layer)\n",
        "  \n",
        "  output_layer = Dense(64, activation=\"relu\")(output_layer)\n",
        "  output_layer = Dense(NUMBER_OF_CLASSES, activation=\"softmax\")(output_layer)\n",
        "  \n",
        "  model = Model(inputs=input_layer, outputs=output_layer, name=\"Simple_Classification_Model\")\n",
        "\n",
        "  loss = SparseCategoricalCrossentropy()\n",
        "  opt = Adam(learning_rate=0.0005, beta_1=0.5)\n",
        "  model.compile(loss=loss, optimizer=opt, metrics=[\"accuracy\"])\n",
        "  return model\n",
        "\n",
        "def define_convolutional_model():\n",
        "  input_layer = Input(shape=(75,), name=\"First_Layer\")\n",
        "\n",
        "  output_layer = Dense(64)(input_layer)\n",
        "  output_layer = BatchNormalization()(output_layer)\n",
        "  output_layer = Activation(\"relu\")(output_layer)\n",
        "  output_layer = Dropout(0.7)(output_layer)\n",
        "\n",
        "  output_layer = Reshape((8,8,1))(output_layer)\n",
        "\n",
        "  output_layer = Conv2D(32, 3, strides=(2,2))(output_layer)\n",
        "  output_layer = BatchNormalization()(output_layer)\n",
        "  output_layer = Activation(\"relu\")(output_layer)\n",
        "  output_layer = Dropout(0.7)(output_layer)\n",
        "\n",
        "  output_layer = Flatten()(output_layer)\n",
        "\n",
        "  output_layer = Dense(NUMBER_OF_CLASSES, activation=\"softmax\")(output_layer)\n",
        "\n",
        "  model = Model(inputs=input_layer, outputs=output_layer, name=\"Simple_Classification_Model\")\n",
        "\n",
        "  loss = SparseCategoricalCrossentropy()\n",
        "  opt = Adam(learning_rate=0.0005, beta_1=0.5)\n",
        "  model.compile(loss=loss, optimizer=opt, metrics=[\"accuracy\"])\n",
        "  return model"
      ],
      "execution_count": 44,
      "outputs": []
    },
    {
      "cell_type": "markdown",
      "metadata": {
        "id": "IfoehBkU_FaJ"
      },
      "source": [
        "### Train Models"
      ]
    },
    {
      "cell_type": "code",
      "metadata": {
        "colab": {
          "base_uri": "https://localhost:8080/"
        },
        "id": "oPG2bg_Dw4Qw",
        "outputId": "28151797-0011-4da1-bcec-42bc3ecb6f61"
      },
      "source": [
        "train_loss, validation_loss = [], []\n",
        "\n",
        "n_epochs = 15\n",
        "batch_size = 100\n",
        "\n",
        "model = define_baseline_model()\n",
        "# model = define_convolutional_model()\n",
        "\n",
        "model.summary()\n",
        "train(dataset_train, dataset_validation, model, n_epochs, batch_size)"
      ],
      "execution_count": null,
      "outputs": [
        {
          "output_type": "stream",
          "text": [
            "Model: \"Simple_Classification_Model\"\n",
            "_________________________________________________________________\n",
            "Layer (type)                 Output Shape              Param #   \n",
            "=================================================================\n",
            "First_Layer (InputLayer)     [(None, 75)]              0         \n",
            "_________________________________________________________________\n",
            "dense_49 (Dense)             (None, 128)               9728      \n",
            "_________________________________________________________________\n",
            "dropout_27 (Dropout)         (None, 128)               0         \n",
            "_________________________________________________________________\n",
            "dense_50 (Dense)             (None, 64)                8256      \n",
            "_________________________________________________________________\n",
            "dense_51 (Dense)             (None, 9)                 585       \n",
            "=================================================================\n",
            "Total params: 18,569\n",
            "Trainable params: 18,569\n",
            "Non-trainable params: 0\n",
            "_________________________________________________________________\n",
            ">0 0/1400, 7.966, 0.020\n",
            ">0 200/1400, 2.628, 0.170\n",
            ">0 400/1400, 2.201, 0.260\n",
            ">0 600/1400, 2.056, 0.270\n",
            ">0 800/1400, 1.952, 0.230\n",
            ">0 1000/1400, 1.862, 0.280\n",
            ">0 1200/1400, 1.892, 0.250\n",
            "1875/1875 [==============================] - 2s 1ms/step - loss: 1.8614 - accuracy: 0.3170\n",
            ">1 0/1400, 1.861, 0.317\n",
            ">1 200/1400, 1.857, 0.290\n",
            ">1 400/1400, 1.906, 0.270\n",
            ">1 600/1400, 1.748, 0.300\n",
            ">1 800/1400, 1.806, 0.450\n",
            ">1 1000/1400, 1.746, 0.360\n",
            ">1 1200/1400, 2.004, 0.310\n",
            "1875/1875 [==============================] - 2s 1ms/step - loss: 1.8214 - accuracy: 0.3406\n",
            ">2 0/1400, 1.821, 0.341\n",
            ">2 200/1400, 1.725, 0.370\n",
            ">2 400/1400, 1.967, 0.230\n",
            ">2 600/1400, 1.842, 0.370\n",
            ">2 800/1400, 1.780, 0.390\n",
            ">2 1000/1400, 1.811, 0.350\n",
            ">2 1200/1400, 1.677, 0.470\n",
            "1875/1875 [==============================] - 2s 1ms/step - loss: 1.8061 - accuracy: 0.3433\n",
            ">3 0/1400, 1.806, 0.343\n",
            ">3 200/1400, 1.839, 0.280\n",
            ">3 400/1400, 1.661, 0.470\n",
            ">3 600/1400, 1.807, 0.370\n",
            ">3 800/1400, 1.736, 0.350\n",
            ">3 1000/1400, 1.754, 0.400\n",
            ">3 1200/1400, 1.905, 0.330\n",
            "1875/1875 [==============================] - 2s 1ms/step - loss: 1.7926 - accuracy: 0.3457\n",
            ">4 0/1400, 1.792, 0.346\n",
            ">4 200/1400, 1.688, 0.380\n",
            ">4 400/1400, 1.849, 0.310\n",
            ">4 600/1400, 1.788, 0.330\n",
            ">4 800/1400, 1.857, 0.320\n",
            ">4 1000/1400, 1.840, 0.310\n",
            ">4 1200/1400, 1.772, 0.360\n",
            "1875/1875 [==============================] - 2s 1ms/step - loss: 1.7818 - accuracy: 0.3470\n",
            ">5 0/1400, 1.781, 0.347\n",
            ">5 200/1400, 1.868, 0.290\n",
            ">5 400/1400, 1.764, 0.330\n",
            ">5 600/1400, 1.878, 0.300\n",
            ">5 800/1400, 1.926, 0.300\n",
            ">5 1000/1400, 1.807, 0.350\n",
            ">5 1200/1400, 1.902, 0.290\n",
            "1875/1875 [==============================] - 2s 1ms/step - loss: 1.7779 - accuracy: 0.3482\n",
            ">6 0/1400, 1.778, 0.348\n",
            ">6 200/1400, 1.807, 0.360\n",
            ">6 400/1400, 1.855, 0.280\n",
            ">6 600/1400, 1.686, 0.390\n",
            ">6 800/1400, 1.850, 0.330\n",
            ">6 1000/1400, 1.745, 0.420\n",
            ">6 1200/1400, 1.785, 0.330\n",
            "1875/1875 [==============================] - 2s 1ms/step - loss: 1.7721 - accuracy: 0.3527\n",
            ">7 0/1400, 1.772, 0.353\n",
            ">7 200/1400, 1.613, 0.380\n",
            ">7 400/1400, 1.700, 0.410\n",
            ">7 600/1400, 1.739, 0.360\n",
            ">7 800/1400, 1.699, 0.340\n",
            ">7 1000/1400, 1.716, 0.430\n",
            ">7 1200/1400, 1.638, 0.380\n",
            "1875/1875 [==============================] - 2s 1ms/step - loss: 1.7606 - accuracy: 0.3587\n",
            ">8 0/1400, 1.761, 0.359\n",
            ">8 200/1400, 1.890, 0.290\n",
            ">8 400/1400, 1.747, 0.370\n",
            ">8 600/1400, 2.020, 0.280\n",
            ">8 800/1400, 1.864, 0.370\n",
            ">8 1000/1400, 1.757, 0.330\n",
            ">8 1200/1400, 1.739, 0.380\n",
            "1875/1875 [==============================] - 2s 1ms/step - loss: 1.7747 - accuracy: 0.3507\n",
            ">9 0/1400, 1.775, 0.351\n",
            ">9 200/1400, 1.742, 0.370\n",
            ">9 400/1400, 1.834, 0.330\n",
            ">9 600/1400, 1.613, 0.400\n",
            ">9 800/1400, 1.778, 0.340\n",
            ">9 1000/1400, 1.693, 0.340\n",
            ">9 1200/1400, 1.747, 0.390\n",
            "1875/1875 [==============================] - 2s 1ms/step - loss: 1.7676 - accuracy: 0.3535\n",
            ">10 0/1400, 1.768, 0.354\n",
            ">10 200/1400, 1.588, 0.400\n",
            ">10 400/1400, 1.701, 0.370\n",
            ">10 600/1400, 1.767, 0.430\n",
            ">10 800/1400, 1.591, 0.380\n",
            ">10 1000/1400, 1.832, 0.290\n",
            ">10 1200/1400, 1.821, 0.410\n",
            "1875/1875 [==============================] - 2s 1ms/step - loss: 1.7685 - accuracy: 0.3529\n",
            ">11 0/1400, 1.769, 0.353\n",
            ">11 200/1400, 1.698, 0.340\n",
            ">11 400/1400, 1.756, 0.320\n",
            ">11 600/1400, 1.816, 0.380\n",
            ">11 800/1400, 1.845, 0.370\n",
            ">11 1000/1400, 1.674, 0.490\n",
            ">11 1200/1400, 1.813, 0.340\n",
            "1875/1875 [==============================] - 2s 1ms/step - loss: 1.7686 - accuracy: 0.3535\n",
            ">12 0/1400, 1.769, 0.353\n",
            ">12 200/1400, 1.659, 0.380\n",
            ">12 400/1400, 1.764, 0.350\n",
            ">12 600/1400, 1.842, 0.290\n",
            ">12 800/1400, 1.814, 0.310\n",
            ">12 1000/1400, 1.592, 0.420\n",
            ">12 1200/1400, 1.746, 0.330\n"
          ],
          "name": "stdout"
        }
      ]
    },
    {
      "cell_type": "markdown",
      "metadata": {
        "id": "SEE5sIbvpdPG"
      },
      "source": [
        "### Visualize losses"
      ]
    },
    {
      "cell_type": "code",
      "metadata": {
        "colab": {
          "base_uri": "https://localhost:8080/",
          "height": 265
        },
        "id": "jRnMb_tBMde0",
        "outputId": "dbf4c818-0ff5-4d71-9d45-c44247fb750b"
      },
      "source": [
        "import matplotlib.pyplot as plt\n",
        "%matplotlib inline\n",
        "\n",
        "x = [SUMMARIZE_AFTER*i for i in range(len(train_loss))]\n",
        "plt.plot(x, train_loss)\n",
        "plt.plot(x, validation_loss)\n",
        "plt.show()"
      ],
      "execution_count": 41,
      "outputs": [
        {
          "output_type": "display_data",
          "data": {
            "image/png": "[encoded data removed]",
            "text/plain": [
              "<Figure size 432x288 with 1 Axes>"
            ]
          },
          "metadata": {
            "tags": [],
            "needs_background": "light"
          }
        }
      ]
    },
    {
      "cell_type": "markdown",
      "metadata": {
        "id": "ERPHrQmFnrdj"
      },
      "source": [
        "### Run Test"
      ]
    },
    {
      "cell_type": "code",
      "metadata": {
        "id": "K3ls4OhQnyYO"
      },
      "source": [
        "import pandas as pd\n",
        "\n",
        "\n",
        "def predict_class(model, features):\n",
        "  features = np.expand_dims(features, axis=0)\n",
        "  return model.predict(features)\n",
        "\n",
        "def predict_testset(model, testset):\n",
        "  labels = [\"id\",\"Class_1\",\"Class_2\",\"Class_3\",\"Class_4\",\"Class_5\",\"Class_6\",\"Class_7\",\"Class_8\",\"Class_9\"]\n",
        "  \n",
        "  results = []\n",
        "  ids = testset[:,0]\n",
        "  ids = ids.reshape((len(ids),1));\n",
        "  ids = pd.DataFrame(data=ids, columns=[labels[0]])\n",
        "\n",
        "  data = testset[:,1:]\n",
        "  results = model.predict(data)\n",
        "  results = pd.DataFrame(data=results, columns=labels[1:])\n",
        "\n",
        "  final = pd.concat([ids, results], axis=1)\n",
        "  # final = np.hstack((ids,results))\n",
        "\n",
        "  # return pd.DataFrame(data=final, columns=labels)\n",
        "  return final\n",
        "\n",
        "\n",
        "results = predict_testset(model, raw_testset)\n",
        "results.to_csv(\"submission.csv\", index=False)\n",
        "# print(results)"
      ],
      "execution_count": 18,
      "outputs": []
    },
    {
      "cell_type": "markdown",
      "metadata": {
        "id": "JZfu_PgDMrBW"
      },
      "source": [
        "### UMAP"
      ]
    },
    {
      "cell_type": "code",
      "metadata": {
        "id": "5Ct7HXMTMLxJ"
      },
      "source": [
        "!pip install umap-learn\n",
        "!pip install babyplots\n",
        "!pip install hdbscan "
      ],
      "execution_count": null,
      "outputs": []
    },
    {
      "cell_type": "code",
      "metadata": {
        "id": "GG7FnLQB6WXZ"
      },
      "source": [
        "import umap\n",
        "from sklearn.model_selection import train_test_split\n",
        "from sklearn.preprocessing import StandardScaler\n",
        "from sklearn import preprocessing\n",
        "from babyplots import Babyplot\n",
        "import hdbscan\n",
        "\n",
        "\n",
        "\n",
        "dataset = raw_dataset.to_numpy()[:,1:-1]\n",
        "labels = raw_dataset.to_numpy()[:,-1]\n",
        "\n",
        "dataset = StandardScaler().fit_transform(dataset)\n",
        "\n",
        "le = preprocessing.LabelEncoder()\n",
        "class_names = [\"Class_1\", \"Class_2\", \"Class_3\", \"Class_4\", \"Class_5\", \"Class_6\", \"Class_7\", \"Class_8\", \"Class_9\"]\n",
        "le.fit(class_names)\n",
        "labels = le.transform(labels)\n",
        "\n",
        "print(labels)\n",
        "print(dataset)\n",
        "X_train, X_test, y_train, y_test = train_test_split(dataset, labels, test_size=0.30)\n",
        "reducer2d = umap.UMAP(n_neighbors=20,\n",
        "                        min_dist=0.0,\n",
        "                        n_components=2,\n",
        "                        random_state=42, metric='euclidean', target_weight=0)\n",
        "\n",
        "reducer3d = umap.UMAP(n_neighbors=20,\n",
        "                      min_dist=0.0,\n",
        "                      n_components=3,\n",
        "                      random_state=42, metric='euclidean', target_weight=0)\n",
        "\n",
        "# mapper2d = reducer2d.fit(X_train, y_train)\n",
        "mapper3d = reducer3d.fit(X_train, y_train)\n",
        "\n",
        "# embedding2d_train = mapper2d.transform(X_train)\n",
        "embedding3d_train = mapper3d.transform(X_train)\n",
        "\n",
        "\n",
        "\n",
        "# embedding2d_test = mapper2d.transform(X_test)\n",
        "embedding3d_test = mapper3d.transform(X_test)\n",
        "\n",
        "# embedding2d = embedding2d_train.tolist() + embedding2d_test.tolist()\n",
        "embedding3d = embedding3d_train.tolist() + embedding3d_test.tolist()\n",
        "# y_test \n",
        "print(y_test.shape)\n",
        "# y_test = np.where(y_test >= 1, 'RI', 'DE')\n",
        "y_plot = y_train.tolist() + y_test.tolist()\n",
        "bp = Babyplot(background_color=\"#ffffddff\", )\n",
        "bp.add_plot(embedding3d, 'pointCloud', 'categories', y_plot, {\n",
        "    'colorScale': 'Viridis',\n",
        "    'showLegend': True,\n",
        "    'folded': True,\n",
        "    'size': 5,\n",
        "    'showAxes': [True, True, True],\n",
        "    'axisLabels': ['X', 'Y', 'Z'],\n",
        "    'showTickLines': [[True, True], [True, True], [True, True]]\n",
        "})\n",
        "bp.save_as_html(r'/content/test3.html')\n"
      ],
      "execution_count": null,
      "outputs": []
    },
    {
      "cell_type": "code",
      "metadata": {
        "id": "gU9_sM1Amhg3"
      },
      "source": [
        "import hdbscan\n",
        "from sklearn.model_selection import train_test_split\n",
        "\n",
        "\n",
        "dataset = raw_dataset.to_numpy()[:,1:-1]\n",
        "labels = raw_dataset.to_numpy()[:,-1]\n",
        "\n",
        "X_train, X_test, y_train, y_test = train_test_split(dataset, labels, test_size=0.30)"
      ],
      "execution_count": 9,
      "outputs": []
    },
    {
      "cell_type": "code",
      "metadata": {
        "id": "2tFXKnlQmicB"
      },
      "source": [
        "hdbscan_labels = hdbscan.HDBSCAN(min_samples=10, min_cluster_size=500).fit_predict(X_train, y_train)"
      ],
      "execution_count": null,
      "outputs": []
    }
  ]
}