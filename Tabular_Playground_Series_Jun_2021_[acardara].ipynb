{
  "nbformat": 4,
  "nbformat_minor": 0,
  "metadata": {
    "colab": {
      "name": "Tabular Playground Series - Jun 2021 [acardara]",
      "provenance": [],
      "collapsed_sections": [],
      "authorship_tag": "ABX9TyOcm8t9qwRQRYMBAQ834F8Q",
      "include_colab_link": true
    },
    "kernelspec": {
      "name": "python3",
      "display_name": "Python 3"
    },
    "language_info": {
      "name": "python"
    },
    "accelerator": "GPU"
  },
  "cells": [
    {
      "cell_type": "markdown",
      "metadata": {
        "id": "view-in-github",
        "colab_type": "text"
      },
      "source": [
        "<a href=\"https://colab.research.google.com/github/AlexanderCardarasUCSC/Tabular-Playground-Series---Jun-2021/blob/main/Tabular_Playground_Series_Jun_2021_%5Bacardara%5D.ipynb\" target=\"_parent\"><img src=\"https://colab.research.google.com/assets/colab-badge.svg\" alt=\"Open In Colab\"/></a>"
      ]
    },
    {
      "cell_type": "markdown",
      "metadata": {
        "id": "Ti90w18y-uM7"
      },
      "source": [
        "### Introuction/Load Data"
      ]
    },
    {
      "cell_type": "markdown",
      "metadata": {
        "id": "f77-1WvV4cA8"
      },
      "source": [
        "Code entry for the **Tabular Playground Series - Jun 2021** kaggle competition.\n",
        "\n",
        "https://www.kaggle.com/c/tabular-playground-series-jun-2021/overview\n",
        "\n",
        "\n",
        "\n",
        "Inspiration for the code from the keras functional_api guide.\n",
        "\n",
        "https://keras.io/guides/functional_api/.\n"
      ]
    },
    {
      "cell_type": "code",
      "metadata": {
        "colab": {
          "base_uri": "https://localhost:8080/"
        },
        "id": "syOJbPyglvrw",
        "outputId": "63428a54-740c-4f29-e629-6ba93c6c0ea6"
      },
      "source": [
        "# mount google drive to download dataset\n",
        "from google.colab import drive\n",
        "drive.mount(\"/content/gdrive\")"
      ],
      "execution_count": 2,
      "outputs": [
        {
          "output_type": "stream",
          "text": [
            "Mounted at /content/gdrive\n"
          ],
          "name": "stdout"
        }
      ]
    },
    {
      "cell_type": "code",
      "metadata": {
        "id": "GFk07fPWmL_D"
      },
      "source": [
        "# create a folder to store dataset files\n",
        "!mkdir /content/dataset\n",
        "\n",
        "# copy dataset from google drive\n",
        "!cp /content/gdrive/MyDrive/kaggle/train.csv /content/dataset\n",
        "!cp /content/gdrive/MyDrive/kaggle/test.csv /content/dataset"
      ],
      "execution_count": 3,
      "outputs": []
    },
    {
      "cell_type": "code",
      "metadata": {
        "colab": {
          "base_uri": "https://localhost:8080/"
        },
        "id": "hZymkdKknKX0",
        "outputId": "3a9b6fc2-96bd-460b-9cff-78568b37bbcc"
      },
      "source": [
        "import pandas as pd\n",
        "import numpy as np\n",
        "\n",
        "raw_dataset = pd.read_csv(\"/content/dataset/train.csv\", header=0)\n",
        "dataset_train = raw_dataset.to_numpy()[0:140_000]\n",
        "dataset_validation = raw_dataset.to_numpy()[140_000:]\n",
        "\n",
        "print(dataset_train.shape)\n",
        "print(dataset_validation.shape)\n",
        "\n",
        "raw_testset = pd.read_csv(\"/content/dataset/test.csv\", header=0)\n",
        "raw_testset = raw_testset.to_numpy()\n",
        "print(raw_testset.shape)"
      ],
      "execution_count": 1,
      "outputs": [
        {
          "output_type": "stream",
          "text": [
            "(140000, 77)\n",
            "(60000, 77)\n",
            "(100000, 76)\n"
          ],
          "name": "stdout"
        }
      ]
    },
    {
      "cell_type": "markdown",
      "metadata": {
        "id": "ch-L8LPG-1O1"
      },
      "source": [
        "### Training Loop"
      ]
    },
    {
      "cell_type": "code",
      "metadata": {
        "id": "UVXp8SKcojCu"
      },
      "source": [
        "from tensorflow import keras\n",
        "from tensorflow.keras.utils import to_categorical\n",
        "\n",
        "NUMBER_OF_CLASSES = 9\n",
        "SUMMARIZE_AFTER = 1\n",
        "\n",
        "# applying to_categorical is currently causing an error, \n",
        "# TODO: implement it correctly\n",
        "def string_to_categorical(labels):\n",
        "  new_labels = []\n",
        "  for label in labels:\n",
        "    # we want the 6th character of each class label string ie 'Class_7' should \n",
        "    # convert to '7'\n",
        "\n",
        "    # to_categorical expects values to start from 0, dataset is in range [1,9]\n",
        "    # we must subtract 1 from class labels for training to get the range [0,8]\n",
        "    new_labels.append(int(label[0][6])-1)\n",
        "  new_labels = np.asarray(new_labels)\n",
        "  # return to_categorical(new_labels, NUMBER_OF_CLASSES)\n",
        "  return new_labels\n",
        "\n",
        "def generate_training_samples(dataset, n_samples):\n",
        "  rows = [np.random.randint(0,dataset.shape[0]) for _ in range(n_samples)]\n",
        "  samples = dataset[rows]\n",
        "\n",
        "  train_x = samples[:,1:-1].astype(\"float32\")\n",
        "  train_y = samples[:,-1:]\n",
        "  train_y = string_to_categorical(train_y).astype(\"float32\")\n",
        "  return train_x, train_y\n",
        "\n",
        "# print accuracy of holdout dataset\n",
        "def summarize_performance(dataset_validation, model, epoch):\n",
        "  train_x, train_y = generate_training_samples(dataset_validation, dataset_validation.shape[0])\n",
        "  _loss, _accuracy = model.evaluate(train_x, train_y)\n",
        "  validation_loss.append(_loss)\n",
        "\n",
        "def train(dataset_train, dataset_validation, model, n_epochs, batch_size):\n",
        "  iterations_per_epoch = dataset_train.shape[0]\n",
        "  batches_per_epoch = iterations_per_epoch//batch_size\n",
        "  for epoch in range(n_epochs):\n",
        "    temp_train_loss = []\n",
        "    for batch in range(batches_per_epoch):\n",
        "        train_x, train_y = generate_training_samples(dataset_train, batch_size)\n",
        "\n",
        "        _loss, _accuracy = model.train_on_batch(train_x, train_y)\n",
        "        temp_train_loss.append(_loss)\n",
        "\n",
        "        # print metrics every once in a while\n",
        "        if batch % 200 == 0:\n",
        "          print(\">%d %d/%d, %.3f, %.3f\"%(epoch, batch, batches_per_epoch, _loss, _accuracy))\n",
        "    if (epoch+1) % SUMMARIZE_AFTER == 0:\n",
        "      train_loss.append(sum(temp_train_loss)/len(temp_train_loss))\n",
        "      summarize_performance(dataset_validation, model, epoch)\n",
        "\n"
      ],
      "execution_count": 2,
      "outputs": []
    },
    {
      "cell_type": "markdown",
      "metadata": {
        "id": "tLjWd7qO_A5G"
      },
      "source": [
        "### Models"
      ]
    },
    {
      "cell_type": "code",
      "metadata": {
        "id": "HeWWVGTB_AaO"
      },
      "source": [
        "from tensorflow.keras.layers import Dense\n",
        "from tensorflow.keras.layers import Reshape\n",
        "from tensorflow.keras.layers import Dropout\n",
        "from tensorflow.keras import Input\n",
        "from tensorflow.keras import Model\n",
        "from tensorflow.keras.losses import SparseCategoricalCrossentropy\n",
        "from tensorflow.keras.optimizers import Adam\n",
        "\n",
        "def define_model():\n",
        "  input_layer = Input(shape=(75,), name=\"First_Layer\")\n",
        "\n",
        "  output_layer = Dense(128, activation=\"relu\")(input_layer)\n",
        "  output_layer = Dropout(0.4)(output_layer)\n",
        "  output_layer = Dense(64, activation=\"relu\")(output_layer)\n",
        "  output_layer = Dense(NUMBER_OF_CLASSES, activation=\"softmax\")(output_layer)\n",
        "  \n",
        "  model = Model(inputs=input_layer, outputs=output_layer, name=\"Simple_Classification_Model\")\n",
        "\n",
        "  loss = SparseCategoricalCrossentropy()\n",
        "  opt = Adam(learning_rate=0.0005, beta_1=0.5)\n",
        "  model.compile(loss=loss, optimizer=opt, metrics=[\"accuracy\"])\n",
        "  return model"
      ],
      "execution_count": null,
      "outputs": []
    },
    {
      "cell_type": "markdown",
      "metadata": {
        "id": "IfoehBkU_FaJ"
      },
      "source": [
        "### Train Models"
      ]
    },
    {
      "cell_type": "code",
      "metadata": {
        "colab": {
          "base_uri": "https://localhost:8080/"
        },
        "id": "oPG2bg_Dw4Qw",
        "outputId": "0c08a3fb-d73f-403b-f80b-b2a47f3cb827"
      },
      "source": [
        "train_loss, validation_loss = [], []\n",
        "\n",
        "n_epochs = 10\n",
        "batch_size = 100\n",
        "\n",
        "model = define_model()\n",
        "model.summary()\n",
        "train(dataset_train, dataset_validation, model, n_epochs, batch_size)"
      ],
      "execution_count": 24,
      "outputs": [
        {
          "output_type": "stream",
          "text": [
            "Model: \"Simple_Classification_Model\"\n",
            "_________________________________________________________________\n",
            "Layer (type)                 Output Shape              Param #   \n",
            "=================================================================\n",
            "First_Layer (InputLayer)     [(None, 75)]              0         \n",
            "_________________________________________________________________\n",
            "dense_19 (Dense)             (None, 128)               9728      \n",
            "_________________________________________________________________\n",
            "dropout (Dropout)            (None, 128)               0         \n",
            "_________________________________________________________________\n",
            "dense_20 (Dense)             (None, 64)                8256      \n",
            "_________________________________________________________________\n",
            "dense_21 (Dense)             (None, 9)                 585       \n",
            "=================================================================\n",
            "Total params: 18,569\n",
            "Trainable params: 18,569\n",
            "Non-trainable params: 0\n",
            "_________________________________________________________________\n",
            ">0 0/1400, 6.732, 0.140\n",
            ">0 200/1400, 2.457, 0.270\n",
            ">0 400/1400, 2.239, 0.200\n",
            ">0 600/1400, 1.904, 0.330\n",
            ">0 800/1400, 1.935, 0.280\n",
            ">0 1000/1400, 1.900, 0.340\n",
            ">0 1200/1400, 1.871, 0.350\n",
            "1875/1875 [==============================] - 3s 1ms/step - loss: 1.8739 - accuracy: 0.3215\n",
            ">1 0/1400, 1.874, 0.321\n",
            ">1 200/1400, 1.946, 0.300\n",
            ">1 400/1400, 1.968, 0.290\n",
            ">1 600/1400, 1.751, 0.350\n",
            ">1 800/1400, 1.763, 0.330\n",
            ">1 1000/1400, 1.951, 0.230\n",
            ">1 1200/1400, 2.038, 0.250\n",
            "1875/1875 [==============================] - 3s 2ms/step - loss: 1.8135 - accuracy: 0.3484\n",
            ">2 0/1400, 1.813, 0.348\n",
            ">2 200/1400, 1.797, 0.310\n",
            ">2 400/1400, 1.907, 0.280\n",
            ">2 600/1400, 1.860, 0.320\n",
            ">2 800/1400, 1.975, 0.260\n",
            ">2 1000/1400, 1.858, 0.360\n",
            ">2 1200/1400, 1.716, 0.310\n",
            "1875/1875 [==============================] - 3s 1ms/step - loss: 1.8031 - accuracy: 0.3428\n",
            ">3 0/1400, 1.803, 0.343\n",
            ">3 200/1400, 1.932, 0.260\n",
            ">3 400/1400, 1.902, 0.270\n",
            ">3 600/1400, 1.774, 0.400\n",
            ">3 800/1400, 1.960, 0.300\n",
            ">3 1000/1400, 1.728, 0.340\n",
            ">3 1200/1400, 1.710, 0.420\n",
            "1875/1875 [==============================] - 3s 1ms/step - loss: 1.7876 - accuracy: 0.3480\n",
            ">4 0/1400, 1.788, 0.348\n",
            ">4 200/1400, 1.769, 0.330\n",
            ">4 400/1400, 1.843, 0.320\n",
            ">4 600/1400, 1.768, 0.320\n",
            ">4 800/1400, 1.875, 0.300\n",
            ">4 1000/1400, 1.716, 0.330\n",
            ">4 1200/1400, 1.820, 0.360\n",
            "1875/1875 [==============================] - 3s 1ms/step - loss: 1.7804 - accuracy: 0.3501\n",
            ">5 0/1400, 1.781, 0.350\n",
            ">5 200/1400, 1.684, 0.410\n",
            ">5 400/1400, 1.668, 0.390\n",
            ">5 600/1400, 1.731, 0.380\n",
            ">5 800/1400, 1.762, 0.380\n",
            ">5 1000/1400, 1.655, 0.400\n",
            ">5 1200/1400, 1.829, 0.330\n",
            "1875/1875 [==============================] - 3s 1ms/step - loss: 1.7744 - accuracy: 0.3509\n",
            ">6 0/1400, 1.774, 0.351\n",
            ">6 200/1400, 1.739, 0.380\n",
            ">6 400/1400, 1.719, 0.380\n",
            ">6 600/1400, 1.767, 0.330\n",
            ">6 800/1400, 1.759, 0.390\n",
            ">6 1000/1400, 1.745, 0.320\n",
            ">6 1200/1400, 1.865, 0.380\n",
            "1875/1875 [==============================] - 3s 1ms/step - loss: 1.7814 - accuracy: 0.3493\n",
            ">7 0/1400, 1.781, 0.349\n",
            ">7 200/1400, 1.762, 0.350\n",
            ">7 400/1400, 1.867, 0.300\n",
            ">7 600/1400, 1.762, 0.350\n",
            ">7 800/1400, 1.776, 0.360\n",
            ">7 1000/1400, 1.724, 0.390\n",
            ">7 1200/1400, 1.752, 0.390\n",
            "1875/1875 [==============================] - 3s 1ms/step - loss: 1.7776 - accuracy: 0.3503\n",
            ">8 0/1400, 1.778, 0.350\n",
            ">8 200/1400, 1.808, 0.390\n",
            ">8 400/1400, 1.699, 0.410\n",
            ">8 600/1400, 1.529, 0.460\n",
            ">8 800/1400, 1.888, 0.330\n",
            ">8 1000/1400, 1.673, 0.440\n",
            ">8 1200/1400, 1.855, 0.310\n",
            "1875/1875 [==============================] - 3s 1ms/step - loss: 1.7683 - accuracy: 0.3557\n",
            ">9 0/1400, 1.768, 0.356\n",
            ">9 200/1400, 1.714, 0.400\n",
            ">9 400/1400, 1.743, 0.370\n",
            ">9 600/1400, 1.871, 0.280\n",
            ">9 800/1400, 1.696, 0.420\n",
            ">9 1000/1400, 1.603, 0.430\n",
            ">9 1200/1400, 1.671, 0.380\n",
            "1875/1875 [==============================] - 3s 1ms/step - loss: 1.7761 - accuracy: 0.3527\n"
          ],
          "name": "stdout"
        }
      ]
    },
    {
      "cell_type": "markdown",
      "metadata": {
        "id": "SEE5sIbvpdPG"
      },
      "source": [
        "### Visualize losses"
      ]
    },
    {
      "cell_type": "code",
      "metadata": {
        "colab": {
          "base_uri": "https://localhost:8080/",
          "height": 265
        },
        "id": "jRnMb_tBMde0",
        "outputId": "1cd1b58b-c76b-4d3a-9d32-ace406f87fe9"
      },
      "source": [
        "import matplotlib.pyplot as plt\n",
        "%matplotlib inline\n",
        "\n",
        "x = [SUMMARIZE_AFTER*i for i in range(len(train_loss))]\n",
        "plt.plot(x, train_loss)\n",
        "plt.plot(x, validation_loss)\n",
        "plt.show()"
      ],
      "execution_count": 25,
      "outputs": [
        {
          "output_type": "display_data",
          "data": {
            "image/png": "[encoded data removed]",
            "text/plain": [
              "<Figure size 432x288 with 1 Axes>"
            ]
          },
          "metadata": {
            "tags": [],
            "needs_background": "light"
          }
        }
      ]
    },
    {
      "cell_type": "code",
      "metadata": {
        "id": "GG7FnLQB6WXZ"
      },
      "source": [
        ""
      ],
      "execution_count": null,
      "outputs": []
    }
  ]
}