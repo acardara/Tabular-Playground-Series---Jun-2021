{
  "nbformat": 4,
  "nbformat_minor": 0,
  "metadata": {
    "colab": {
      "name": "Tabular Playground Series - Jun 2021 [acardara]",
      "provenance": [],
      "collapsed_sections": [],
      "include_colab_link": true
    },
    "kernelspec": {
      "name": "python3",
      "display_name": "Python 3"
    },
    "language_info": {
      "name": "python"
    },
    "accelerator": "GPU"
  },
  "cells": [
    {
      "cell_type": "markdown",
      "metadata": {
        "id": "view-in-github",
        "colab_type": "text"
      },
      "source": [
        "<a href=\"https://colab.research.google.com/github/AlexanderCardarasUCSC/Tabular-Playground-Series---Jun-2021/blob/main/Tabular_Playground_Series_Jun_2021_%5Bacardara%5D.ipynb\" target=\"_parent\"><img src=\"https://colab.research.google.com/assets/colab-badge.svg\" alt=\"Open In Colab\"/></a>"
      ]
    },
    {
      "cell_type": "markdown",
      "metadata": {
        "id": "Ti90w18y-uM7"
      },
      "source": [
        "### Introuction/Load Data"
      ]
    },
    {
      "cell_type": "markdown",
      "metadata": {
        "id": "f77-1WvV4cA8"
      },
      "source": [
        "Code entry for the **Tabular Playground Series - Jun 2021** kaggle competition.\n",
        "\n",
        "https://www.kaggle.com/c/tabular-playground-series-jun-2021/overview\n",
        "\n",
        "\n",
        "\n",
        "Inspiration for the code from the keras functional_api guide.\n",
        "\n",
        "https://keras.io/guides/functional_api/.\n"
      ]
    },
    {
      "cell_type": "code",
      "metadata": {
        "colab": {
          "base_uri": "https://localhost:8080/"
        },
        "id": "syOJbPyglvrw",
        "outputId": "c32e0091-3227-4615-9291-bbffefe21e70"
      },
      "source": [
        "# mount google drive to download dataset\n",
        "from google.colab import drive\n",
        "drive.mount(\"/content/gdrive\")"
      ],
      "execution_count": 1,
      "outputs": [
        {
          "output_type": "stream",
          "text": [
            "Mounted at /content/gdrive\n"
          ],
          "name": "stdout"
        }
      ]
    },
    {
      "cell_type": "code",
      "metadata": {
        "id": "GFk07fPWmL_D",
        "colab": {
          "base_uri": "https://localhost:8080/"
        },
        "outputId": "fa5d53b9-41c6-4164-9f6e-a9e35a868109"
      },
      "source": [
        "# create a folder to store dataset files\n",
        "!mkdir /content/dataset\n",
        "!mkdir /content/models\n",
        "\n",
        "# copy dataset from google drive\n",
        "!cp /content/gdrive/MyDrive/kaggle/train.csv /content/dataset\n",
        "!cp /content/gdrive/MyDrive/kaggle/test.csv /content/dataset"
      ],
      "execution_count": 34,
      "outputs": [
        {
          "output_type": "stream",
          "text": [
            "mkdir: cannot create directory ‘/content/dataset’: File exists\n"
          ],
          "name": "stdout"
        }
      ]
    },
    {
      "cell_type": "code",
      "metadata": {
        "id": "Sr8K3C4lTH_U"
      },
      "source": [
        "import numpy as np\n",
        "\n",
        "def shuffle_data(data):\n",
        "  i = np.random.permutation(len(data))\n",
        "  new_data = data[i]\n",
        "  return new_data\n",
        "\n",
        "# def shuffle_data_xyz(x, y, z):\n",
        "#   i = np.random.permutation(len(x))\n",
        "#   new_x = x[i]\n",
        "#   new_y = y[i]\n",
        "#   new_z = z[i]\n",
        "#   return new_x, new_y, new_z\n",
        "\n",
        "def split_train_val(dataset, split=0.8, shuffle=True):\n",
        "  # shuffle rows in dataset\n",
        "  if shuffle:\n",
        "    dataset = shuffle_data(dataset)\n",
        "\n",
        "  train_set_length = int(len(dataset) * split)\n",
        "\n",
        "  # split dataset into real sets of \n",
        "  train_set = dataset[0:train_set_length]\n",
        "  val_set = dataset[train_set_length:]\n",
        "  return train_set, val_set\n",
        "\n",
        "def labels_to_int(labels):\n",
        "# applying to_categorical is currently causing an error, \n",
        "# TODO: implement it correctly\n",
        "  new_labels = []\n",
        "  for label in labels:\n",
        "    # we want the 6th character of each class label string ie 'Class_7' should \n",
        "    # convert to '7'\n",
        "\n",
        "    # to_categorical expects values to start from 0, dataset is in range [1,9]\n",
        "    # we must subtract 1 from class labels for training to get the range [0,8]\n",
        "    new_labels.append(int(label[-1])-1)\n",
        "  new_labels = np.asarray(new_labels)\n",
        "  # return to_categorical(new_labels, NUMBER_OF_CLASSES)\n",
        "  return new_labels\n",
        "\n",
        "def split_data(dataset, is_test=False):\n",
        "  if not is_test:\n",
        "    id = dataset[:,0]\n",
        "    features = dataset[:,1:-1]\n",
        "    label = dataset[:,-1]\n",
        "    label = labels_to_int(label)\n",
        "  else:\n",
        "    id = dataset[:,0]\n",
        "    features = dataset[:,1:]\n",
        "    label = None\n",
        "  return id, features, label"
      ],
      "execution_count": 4,
      "outputs": []
    },
    {
      "cell_type": "code",
      "metadata": {
        "colab": {
          "base_uri": "https://localhost:8080/"
        },
        "id": "hZymkdKknKX0",
        "outputId": "230b62ac-0a67-4428-9e2e-c8d4c17066ad"
      },
      "source": [
        "import pandas as pd\n",
        "\n",
        "raw_dataset_train = pd.read_csv(\"/content/dataset/train.csv\", header=0)\n",
        "np_dataset_train = raw_dataset_train.to_numpy()\n",
        "train, val = split_train_val(np_dataset_train)\n",
        "\n",
        "print(train.shape)\n",
        "print(val.shape)\n",
        "\n",
        "# dataset_train = raw_dataset.to_numpy()[0:140_000]\n",
        "# dataset_validation = raw_dataset.to_numpy()[140_000:]\n",
        "\n",
        "# print(dataset_train.shape)\n",
        "# print(dataset_validation.shape)\n",
        "\n",
        "raw_testset = pd.read_csv(\"/content/dataset/test.csv\", header=0)\n",
        "np_testset = raw_testset.to_numpy()\n",
        "test, _ = split_train_val(np_testset, split=1, shuffle=False)\n",
        "print(test.shape)"
      ],
      "execution_count": 57,
      "outputs": [
        {
          "output_type": "stream",
          "text": [
            "(160000, 77)\n",
            "(40000, 77)\n",
            "(100000, 76)\n"
          ],
          "name": "stdout"
        }
      ]
    },
    {
      "cell_type": "markdown",
      "metadata": {
        "id": "ch-L8LPG-1O1"
      },
      "source": [
        "### Training Loop"
      ]
    },
    {
      "cell_type": "code",
      "metadata": {
        "id": "UVXp8SKcojCu"
      },
      "source": [
        "from tensorflow import keras\n",
        "from tensorflow.keras.utils import to_categorical\n",
        "\n",
        "NUMBER_OF_CLASSES = 9\n",
        "SUMMARIZE_AFTER = 1\n",
        "\n",
        "def generate_training_samples(features, labels, n_samples):\n",
        "  rows = np.random.permutation(features.shape[0])[0:n_samples]\n",
        "\n",
        "  x = features[rows].astype(\"float32\")\n",
        "  y = labels[rows].astype(\"float32\")\n",
        "\n",
        "  return x, y\n",
        "\n",
        "# print accuracy of holdout dataset\n",
        "def summarize_performance(features, labels, model, epoch):\n",
        "  train_x, train_y = generate_training_samples(features, labels, features.shape[0])\n",
        "  _loss, _accuracy = model.evaluate(train_x, train_y)\n",
        "  return _loss\n",
        "\n",
        "def train_model(dataset_train, dataset_validation, model, n_epochs, batch_size, save_dir=\"/content/models/\"):\n",
        "  train_ids, train_features, train_labels = split_data(dataset_train)\n",
        "  val_ids, val_features, val_labels = split_data(dataset_validation)\n",
        "\n",
        "  iterations_per_epoch = dataset_train.shape[0]\n",
        "  batches_per_epoch = iterations_per_epoch//batch_size\n",
        "  for epoch in range(n_epochs):\n",
        "    temp_train_loss = []\n",
        "\n",
        "    for batch in range(batches_per_epoch):\n",
        "        train_x, train_y = generate_training_samples(train_features, train_labels, batch_size)\n",
        "        _loss, _accuracy = model.train_on_batch(train_x, train_y)\n",
        "        temp_train_loss.append(_loss)\n",
        "\n",
        "        if batch % 200 == 0:\n",
        "          print(\">%d %d/%d, %.3f, %.3f\"%(epoch, batch, batches_per_epoch, _loss, _accuracy))\n",
        "\n",
        "    # print metrics every epoch\n",
        "    if (epoch + 1) % SUMMARIZE_AFTER == 0:\n",
        "      train_loss.append(sum(temp_train_loss)/len(temp_train_loss))\n",
        "      val_loss = summarize_performance(val_features, val_labels, model, epoch)\n",
        "      validation_loss.append(val_loss)\n",
        "      checkpoint_name = save_dir+str(epoch).zfill(4)+\".h5\"\n",
        "      model.save(checkpoint_name)\n",
        "      model_checkpoints.append(checkpoint_name)\n",
        "\n"
      ],
      "execution_count": 42,
      "outputs": []
    },
    {
      "cell_type": "markdown",
      "metadata": {
        "id": "tLjWd7qO_A5G"
      },
      "source": [
        "### Models"
      ]
    },
    {
      "cell_type": "code",
      "metadata": {
        "id": "HeWWVGTB_AaO"
      },
      "source": [
        "from tensorflow.keras.layers import Dense\n",
        "from tensorflow.keras.layers import Reshape\n",
        "from tensorflow.keras.layers import Dropout\n",
        "from tensorflow.keras.layers import Conv1D\n",
        "from tensorflow.keras.layers import Conv2D\n",
        "from tensorflow.keras.layers import Flatten\n",
        "from tensorflow.keras.layers import BatchNormalization\n",
        "from tensorflow.keras.layers import Activation\n",
        "from tensorflow.keras import Input\n",
        "from tensorflow.keras import Model\n",
        "from tensorflow.keras.losses import SparseCategoricalCrossentropy\n",
        "from tensorflow.keras.optimizers import Adam\n",
        "\n",
        "def define_baseline_model():\n",
        "  input_layer = Input(shape=(75,), name=\"First_Layer\")\n",
        "\n",
        "  output_layer = Dense(128, activation=\"relu\")(input_layer)\n",
        "  output_layer = Dropout(0.4)(output_layer)\n",
        "  \n",
        "  output_layer = Dense(64, activation=\"relu\")(output_layer)\n",
        "  output_layer = Dense(NUMBER_OF_CLASSES, activation=\"softmax\")(output_layer)\n",
        "  \n",
        "  model = Model(inputs=input_layer, outputs=output_layer, name=\"Simple_Classification_Model\")\n",
        "\n",
        "  loss = SparseCategoricalCrossentropy()\n",
        "  opt = Adam(learning_rate=0.0005, beta_1=0.8)\n",
        "  model.compile(loss=loss, optimizer=opt, metrics=[\"accuracy\"])\n",
        "  return model"
      ],
      "execution_count": 52,
      "outputs": []
    },
    {
      "cell_type": "markdown",
      "metadata": {
        "id": "IfoehBkU_FaJ"
      },
      "source": [
        "### Train Models"
      ]
    },
    {
      "cell_type": "code",
      "metadata": {
        "colab": {
          "base_uri": "https://localhost:8080/",
          "height": 1000
        },
        "id": "oPG2bg_Dw4Qw",
        "outputId": "36b1244f-7717-4570-ec2f-326b0d55a1ef"
      },
      "source": [
        "train_loss, validation_loss, model_checkpoints = [], [], []\n",
        "\n",
        "n_epochs = 50\n",
        "batch_size = 100\n",
        "\n",
        "model = define_baseline_model()\n",
        "\n",
        "model.summary()\n",
        "train_model(train, val, model, n_epochs, batch_size)"
      ],
      "execution_count": 53,
      "outputs": [
        {
          "output_type": "stream",
          "text": [
            "Model: \"Simple_Classification_Model\"\n",
            "_________________________________________________________________\n",
            "Layer (type)                 Output Shape              Param #   \n",
            "=================================================================\n",
            "First_Layer (InputLayer)     [(None, 75)]              0         \n",
            "_________________________________________________________________\n",
            "dense_42 (Dense)             (None, 128)               9728      \n",
            "_________________________________________________________________\n",
            "dropout_14 (Dropout)         (None, 128)               0         \n",
            "_________________________________________________________________\n",
            "dense_43 (Dense)             (None, 64)                8256      \n",
            "_________________________________________________________________\n",
            "dense_44 (Dense)             (None, 9)                 585       \n",
            "=================================================================\n",
            "Total params: 18,569\n",
            "Trainable params: 18,569\n",
            "Non-trainable params: 0\n",
            "_________________________________________________________________\n",
            ">0 0/1600, 5.497, 0.160\n",
            ">0 200/1600, 2.269, 0.200\n",
            ">0 400/1600, 2.110, 0.270\n",
            ">0 600/1600, 2.125, 0.240\n",
            ">0 800/1600, 1.927, 0.320\n",
            ">0 1000/1600, 1.978, 0.340\n",
            ">0 1200/1600, 1.821, 0.270\n",
            ">0 1400/1600, 1.979, 0.340\n",
            "1250/1250 [==============================] - 2s 2ms/step - loss: 1.8555 - accuracy: 0.3185\n",
            ">1 0/1600, 1.855, 0.319\n",
            ">1 200/1600, 1.872, 0.270\n",
            ">1 400/1600, 1.727, 0.370\n",
            ">1 600/1600, 1.936, 0.260\n",
            ">1 800/1600, 1.859, 0.340\n",
            ">1 1000/1600, 1.790, 0.360\n",
            ">1 1200/1600, 1.867, 0.300\n",
            ">1 1400/1600, 1.808, 0.320\n",
            "1250/1250 [==============================] - 2s 2ms/step - loss: 1.8072 - accuracy: 0.3427\n",
            ">2 0/1600, 1.807, 0.343\n",
            ">2 200/1600, 1.875, 0.330\n",
            ">2 400/1600, 1.860, 0.390\n",
            ">2 600/1600, 1.761, 0.320\n",
            ">2 800/1600, 1.766, 0.360\n",
            ">2 1000/1600, 1.870, 0.310\n",
            ">2 1200/1600, 1.754, 0.390\n",
            ">2 1400/1600, 1.813, 0.270\n",
            "1250/1250 [==============================] - 2s 2ms/step - loss: 1.7900 - accuracy: 0.3469\n",
            ">3 0/1600, 1.790, 0.347\n",
            ">3 200/1600, 1.981, 0.270\n",
            ">3 400/1600, 1.738, 0.320\n",
            ">3 600/1600, 1.871, 0.240\n",
            ">3 800/1600, 1.747, 0.340\n",
            ">3 1000/1600, 1.858, 0.320\n",
            ">3 1200/1600, 1.761, 0.420\n",
            ">3 1400/1600, 1.741, 0.400\n",
            "1250/1250 [==============================] - 2s 2ms/step - loss: 1.7812 - accuracy: 0.3498\n",
            ">4 0/1600, 1.781, 0.350\n",
            ">4 200/1600, 1.784, 0.330\n",
            ">4 400/1600, 1.829, 0.280\n",
            ">4 600/1600, 1.764, 0.400\n",
            ">4 800/1600, 1.804, 0.370\n",
            ">4 1000/1600, 1.819, 0.270\n",
            ">4 1200/1600, 1.710, 0.380\n",
            ">4 1400/1600, 1.831, 0.360\n",
            "1250/1250 [==============================] - 2s 2ms/step - loss: 1.7756 - accuracy: 0.3524\n",
            ">5 0/1600, 1.775, 0.352\n",
            ">5 200/1600, 1.695, 0.380\n",
            ">5 400/1600, 1.864, 0.340\n",
            ">5 600/1600, 1.866, 0.310\n",
            ">5 800/1600, 1.819, 0.330\n",
            ">5 1000/1600, 1.810, 0.340\n",
            ">5 1200/1600, 1.801, 0.300\n",
            ">5 1400/1600, 1.926, 0.300\n",
            "1250/1250 [==============================] - 2s 2ms/step - loss: 1.7716 - accuracy: 0.3550\n",
            ">6 0/1600, 1.771, 0.355\n",
            ">6 200/1600, 1.867, 0.310\n",
            ">6 400/1600, 1.676, 0.390\n",
            ">6 600/1600, 1.638, 0.390\n",
            ">6 800/1600, 1.623, 0.430\n",
            ">6 1000/1600, 1.768, 0.360\n",
            ">6 1200/1600, 1.670, 0.340\n",
            ">6 1400/1600, 1.719, 0.410\n",
            "1250/1250 [==============================] - 2s 2ms/step - loss: 1.7715 - accuracy: 0.3541\n",
            ">7 0/1600, 1.772, 0.354\n",
            ">7 200/1600, 1.697, 0.370\n",
            ">7 400/1600, 1.882, 0.340\n",
            ">7 600/1600, 1.832, 0.300\n",
            ">7 800/1600, 1.831, 0.370\n",
            ">7 1000/1600, 1.670, 0.390\n",
            ">7 1200/1600, 1.831, 0.330\n",
            ">7 1400/1600, 1.651, 0.410\n",
            "1250/1250 [==============================] - 2s 2ms/step - loss: 1.7683 - accuracy: 0.3535\n",
            ">8 0/1600, 1.768, 0.354\n",
            ">8 200/1600, 1.704, 0.370\n",
            ">8 400/1600, 1.748, 0.400\n",
            ">8 600/1600, 1.767, 0.400\n",
            ">8 800/1600, 1.717, 0.380\n",
            ">8 1000/1600, 1.823, 0.290\n",
            ">8 1200/1600, 1.780, 0.400\n",
            ">8 1400/1600, 1.805, 0.350\n",
            "1250/1250 [==============================] - 2s 2ms/step - loss: 1.7680 - accuracy: 0.3534\n",
            ">9 0/1600, 1.768, 0.353\n",
            ">9 200/1600, 1.586, 0.450\n",
            ">9 400/1600, 1.599, 0.400\n",
            ">9 600/1600, 1.865, 0.280\n",
            ">9 800/1600, 1.745, 0.410\n",
            ">9 1000/1600, 1.806, 0.370\n",
            ">9 1200/1600, 1.816, 0.350\n",
            ">9 1400/1600, 1.756, 0.400\n",
            "1250/1250 [==============================] - 2s 2ms/step - loss: 1.7677 - accuracy: 0.3554\n",
            ">10 0/1600, 1.768, 0.356\n",
            ">10 200/1600, 1.851, 0.330\n",
            ">10 400/1600, 1.803, 0.310\n",
            ">10 600/1600, 1.750, 0.310\n",
            ">10 800/1600, 1.677, 0.360\n",
            ">10 1000/1600, 1.672, 0.410\n",
            ">10 1200/1600, 1.665, 0.410\n",
            ">10 1400/1600, 1.835, 0.370\n",
            "1250/1250 [==============================] - 2s 2ms/step - loss: 1.7662 - accuracy: 0.3559\n",
            ">11 0/1600, 1.766, 0.356\n",
            ">11 200/1600, 1.864, 0.290\n",
            ">11 400/1600, 1.784, 0.330\n",
            ">11 600/1600, 1.911, 0.300\n",
            ">11 800/1600, 1.627, 0.420\n",
            ">11 1000/1600, 1.825, 0.340\n",
            ">11 1200/1600, 1.852, 0.320\n",
            ">11 1400/1600, 1.818, 0.320\n",
            "1250/1250 [==============================] - 2s 2ms/step - loss: 1.7654 - accuracy: 0.3568\n",
            ">12 0/1600, 1.765, 0.357\n",
            ">12 200/1600, 1.734, 0.370\n",
            ">12 400/1600, 1.802, 0.420\n",
            ">12 600/1600, 1.666, 0.350\n",
            ">12 800/1600, 1.805, 0.320\n",
            ">12 1000/1600, 1.633, 0.430\n",
            ">12 1200/1600, 1.693, 0.360\n",
            ">12 1400/1600, 1.746, 0.350\n",
            "1250/1250 [==============================] - 2s 2ms/step - loss: 1.7656 - accuracy: 0.3554\n",
            ">13 0/1600, 1.766, 0.355\n",
            ">13 200/1600, 1.835, 0.290\n",
            ">13 400/1600, 1.673, 0.450\n",
            ">13 600/1600, 1.835, 0.290\n",
            ">13 800/1600, 1.656, 0.400\n",
            ">13 1000/1600, 1.841, 0.300\n",
            ">13 1200/1600, 1.921, 0.320\n",
            ">13 1400/1600, 1.650, 0.400\n",
            "1250/1250 [==============================] - 2s 2ms/step - loss: 1.7661 - accuracy: 0.3547\n",
            ">14 0/1600, 1.766, 0.355\n",
            ">14 200/1600, 1.712, 0.380\n",
            ">14 400/1600, 1.700, 0.360\n",
            ">14 600/1600, 1.882, 0.310\n",
            ">14 800/1600, 1.829, 0.320\n",
            ">14 1000/1600, 1.923, 0.260\n",
            ">14 1200/1600, 1.768, 0.350\n",
            ">14 1400/1600, 1.787, 0.390\n",
            "1250/1250 [==============================] - 2s 2ms/step - loss: 1.7656 - accuracy: 0.3562\n",
            ">15 0/1600, 1.766, 0.356\n",
            ">15 200/1600, 1.568, 0.470\n",
            ">15 400/1600, 1.959, 0.260\n",
            ">15 600/1600, 1.667, 0.340\n",
            ">15 800/1600, 1.705, 0.360\n",
            ">15 1000/1600, 1.761, 0.390\n",
            ">15 1200/1600, 1.736, 0.340\n",
            ">15 1400/1600, 1.779, 0.340\n",
            "1250/1250 [==============================] - 2s 2ms/step - loss: 1.7640 - accuracy: 0.3565\n",
            ">16 0/1600, 1.764, 0.356\n",
            ">16 200/1600, 1.708, 0.380\n",
            ">16 400/1600, 1.875, 0.240\n",
            ">16 600/1600, 1.782, 0.310\n",
            ">16 800/1600, 1.732, 0.390\n",
            ">16 1000/1600, 1.672, 0.350\n",
            ">16 1200/1600, 1.717, 0.340\n",
            ">16 1400/1600, 1.773, 0.330\n",
            "1250/1250 [==============================] - 2s 2ms/step - loss: 1.7634 - accuracy: 0.3566\n",
            ">17 0/1600, 1.763, 0.357\n",
            ">17 200/1600, 1.697, 0.360\n",
            ">17 400/1600, 1.783, 0.300\n",
            ">17 600/1600, 1.763, 0.300\n",
            ">17 800/1600, 1.712, 0.380\n",
            ">17 1000/1600, 1.748, 0.360\n",
            ">17 1200/1600, 1.734, 0.340\n",
            ">17 1400/1600, 1.910, 0.300\n",
            "1250/1250 [==============================] - 2s 2ms/step - loss: 1.7635 - accuracy: 0.3560\n",
            ">18 0/1600, 1.763, 0.356\n",
            ">18 200/1600, 1.593, 0.420\n",
            ">18 400/1600, 1.651, 0.370\n",
            ">18 600/1600, 1.872, 0.290\n",
            ">18 800/1600, 1.677, 0.430\n",
            ">18 1000/1600, 1.746, 0.350\n",
            ">18 1200/1600, 1.727, 0.340\n",
            ">18 1400/1600, 1.750, 0.400\n",
            "1250/1250 [==============================] - 2s 2ms/step - loss: 1.7637 - accuracy: 0.3567\n",
            ">19 0/1600, 1.764, 0.357\n",
            ">19 200/1600, 1.857, 0.370\n",
            ">19 400/1600, 1.665, 0.430\n",
            ">19 600/1600, 1.822, 0.270\n",
            ">19 800/1600, 1.651, 0.420\n",
            ">19 1000/1600, 1.562, 0.410\n",
            ">19 1200/1600, 1.893, 0.310\n",
            ">19 1400/1600, 1.822, 0.290\n",
            "1250/1250 [==============================] - 2s 2ms/step - loss: 1.7637 - accuracy: 0.3550\n",
            ">20 0/1600, 1.764, 0.355\n",
            ">20 200/1600, 1.951, 0.320\n",
            ">20 400/1600, 1.880, 0.260\n",
            ">20 600/1600, 1.739, 0.400\n",
            ">20 800/1600, 1.730, 0.410\n",
            ">20 1000/1600, 1.850, 0.310\n",
            ">20 1200/1600, 1.797, 0.330\n",
            ">20 1400/1600, 1.757, 0.310\n",
            "1250/1250 [==============================] - 2s 2ms/step - loss: 1.7633 - accuracy: 0.3560\n",
            ">21 0/1600, 1.763, 0.356\n",
            ">21 200/1600, 1.746, 0.370\n",
            ">21 400/1600, 1.758, 0.340\n",
            ">21 600/1600, 1.608, 0.430\n",
            ">21 800/1600, 1.816, 0.380\n",
            ">21 1000/1600, 1.625, 0.380\n",
            ">21 1200/1600, 1.764, 0.310\n",
            ">21 1400/1600, 1.767, 0.390\n",
            "1250/1250 [==============================] - 2s 2ms/step - loss: 1.7641 - accuracy: 0.3564\n",
            ">22 0/1600, 1.764, 0.357\n",
            ">22 200/1600, 1.604, 0.440\n",
            ">22 400/1600, 1.734, 0.340\n",
            ">22 600/1600, 1.765, 0.330\n",
            ">22 800/1600, 1.714, 0.420\n",
            ">22 1000/1600, 1.757, 0.330\n",
            ">22 1200/1600, 1.788, 0.350\n",
            ">22 1400/1600, 1.650, 0.440\n",
            "1250/1250 [==============================] - 2s 2ms/step - loss: 1.7646 - accuracy: 0.3550\n",
            ">23 0/1600, 1.764, 0.355\n",
            ">23 200/1600, 1.869, 0.350\n",
            ">23 400/1600, 1.743, 0.370\n",
            ">23 600/1600, 1.807, 0.320\n",
            ">23 800/1600, 1.707, 0.350\n",
            ">23 1000/1600, 1.708, 0.380\n",
            ">23 1200/1600, 1.703, 0.390\n",
            ">23 1400/1600, 1.646, 0.420\n",
            "1250/1250 [==============================] - 2s 2ms/step - loss: 1.7642 - accuracy: 0.3553\n",
            ">24 0/1600, 1.765, 0.355\n",
            ">24 200/1600, 1.700, 0.390\n",
            ">24 400/1600, 1.805, 0.370\n",
            ">24 600/1600, 1.736, 0.410\n",
            ">24 800/1600, 1.625, 0.370\n",
            ">24 1000/1600, 1.871, 0.310\n",
            ">24 1200/1600, 1.797, 0.310\n",
            ">24 1400/1600, 1.787, 0.370\n",
            "1250/1250 [==============================] - 2s 2ms/step - loss: 1.7639 - accuracy: 0.3568\n",
            ">25 0/1600, 1.764, 0.357\n",
            ">25 200/1600, 1.764, 0.380\n",
            ">25 400/1600, 1.842, 0.320\n",
            ">25 600/1600, 1.798, 0.320\n",
            ">25 800/1600, 1.662, 0.420\n",
            ">25 1000/1600, 1.667, 0.390\n",
            ">25 1200/1600, 1.636, 0.350\n",
            ">25 1400/1600, 1.708, 0.320\n",
            "1250/1250 [==============================] - 2s 2ms/step - loss: 1.7640 - accuracy: 0.3561\n",
            ">26 0/1600, 1.764, 0.356\n",
            ">26 200/1600, 1.842, 0.340\n",
            ">26 400/1600, 1.731, 0.390\n",
            ">26 600/1600, 1.872, 0.390\n",
            ">26 800/1600, 1.874, 0.340\n",
            ">26 1000/1600, 1.648, 0.390\n",
            ">26 1200/1600, 1.913, 0.280\n",
            ">26 1400/1600, 1.668, 0.370\n",
            "1250/1250 [==============================] - 2s 2ms/step - loss: 1.7643 - accuracy: 0.3558\n",
            ">27 0/1600, 1.764, 0.356\n",
            ">27 200/1600, 1.804, 0.370\n",
            ">27 400/1600, 1.731, 0.350\n",
            ">27 600/1600, 1.643, 0.420\n",
            ">27 800/1600, 1.737, 0.380\n",
            ">27 1000/1600, 1.728, 0.320\n",
            ">27 1200/1600, 1.709, 0.380\n",
            ">27 1400/1600, 1.751, 0.390\n",
            "1250/1250 [==============================] - 2s 2ms/step - loss: 1.7644 - accuracy: 0.3551\n",
            ">28 0/1600, 1.764, 0.355\n",
            ">28 200/1600, 1.810, 0.340\n",
            ">28 400/1600, 1.827, 0.340\n",
            ">28 600/1600, 1.624, 0.380\n",
            ">28 800/1600, 1.785, 0.400\n",
            ">28 1000/1600, 1.636, 0.380\n",
            ">28 1200/1600, 1.643, 0.370\n",
            ">28 1400/1600, 1.781, 0.370\n",
            "1250/1250 [==============================] - 2s 2ms/step - loss: 1.7644 - accuracy: 0.3552\n",
            ">29 0/1600, 1.764, 0.355\n",
            ">29 200/1600, 1.637, 0.440\n",
            ">29 400/1600, 1.632, 0.440\n",
            ">29 600/1600, 1.826, 0.330\n",
            ">29 800/1600, 1.697, 0.380\n",
            ">29 1000/1600, 1.823, 0.300\n",
            ">29 1200/1600, 1.683, 0.380\n",
            ">29 1400/1600, 1.836, 0.310\n"
          ],
          "name": "stdout"
        },
        {
          "output_type": "error",
          "ename": "KeyboardInterrupt",
          "evalue": "ignored",
          "traceback": [
            "\u001b[0;31m---------------------------------------------------------------------------\u001b[0m",
            "\u001b[0;31mKeyboardInterrupt\u001b[0m                         Traceback (most recent call last)",
            "\u001b[0;32m<ipython-input-53-f64bcea3f824>\u001b[0m in \u001b[0;36m<module>\u001b[0;34m()\u001b[0m\n\u001b[1;32m      7\u001b[0m \u001b[0;34m\u001b[0m\u001b[0m\n\u001b[1;32m      8\u001b[0m \u001b[0mmodel\u001b[0m\u001b[0;34m.\u001b[0m\u001b[0msummary\u001b[0m\u001b[0;34m(\u001b[0m\u001b[0;34m)\u001b[0m\u001b[0;34m\u001b[0m\u001b[0;34m\u001b[0m\u001b[0m\n\u001b[0;32m----> 9\u001b[0;31m \u001b[0mtrain_model\u001b[0m\u001b[0;34m(\u001b[0m\u001b[0mtrain\u001b[0m\u001b[0;34m,\u001b[0m \u001b[0mval\u001b[0m\u001b[0;34m,\u001b[0m \u001b[0mmodel\u001b[0m\u001b[0;34m,\u001b[0m \u001b[0mn_epochs\u001b[0m\u001b[0;34m,\u001b[0m \u001b[0mbatch_size\u001b[0m\u001b[0;34m)\u001b[0m\u001b[0;34m\u001b[0m\u001b[0;34m\u001b[0m\u001b[0m\n\u001b[0m",
            "\u001b[0;32m<ipython-input-42-91dd07937a03>\u001b[0m in \u001b[0;36mtrain_model\u001b[0;34m(dataset_train, dataset_validation, model, n_epochs, batch_size, save_dir)\u001b[0m\n\u001b[1;32m     29\u001b[0m \u001b[0;34m\u001b[0m\u001b[0m\n\u001b[1;32m     30\u001b[0m     \u001b[0;32mfor\u001b[0m \u001b[0mbatch\u001b[0m \u001b[0;32min\u001b[0m \u001b[0mrange\u001b[0m\u001b[0;34m(\u001b[0m\u001b[0mbatches_per_epoch\u001b[0m\u001b[0;34m)\u001b[0m\u001b[0;34m:\u001b[0m\u001b[0;34m\u001b[0m\u001b[0;34m\u001b[0m\u001b[0m\n\u001b[0;32m---> 31\u001b[0;31m         \u001b[0mtrain_x\u001b[0m\u001b[0;34m,\u001b[0m \u001b[0mtrain_y\u001b[0m \u001b[0;34m=\u001b[0m \u001b[0mgenerate_training_samples\u001b[0m\u001b[0;34m(\u001b[0m\u001b[0mtrain_features\u001b[0m\u001b[0;34m,\u001b[0m \u001b[0mtrain_labels\u001b[0m\u001b[0;34m,\u001b[0m \u001b[0mbatch_size\u001b[0m\u001b[0;34m)\u001b[0m\u001b[0;34m\u001b[0m\u001b[0;34m\u001b[0m\u001b[0m\n\u001b[0m\u001b[1;32m     32\u001b[0m         \u001b[0m_loss\u001b[0m\u001b[0;34m,\u001b[0m \u001b[0m_accuracy\u001b[0m \u001b[0;34m=\u001b[0m \u001b[0mmodel\u001b[0m\u001b[0;34m.\u001b[0m\u001b[0mtrain_on_batch\u001b[0m\u001b[0;34m(\u001b[0m\u001b[0mtrain_x\u001b[0m\u001b[0;34m,\u001b[0m \u001b[0mtrain_y\u001b[0m\u001b[0;34m)\u001b[0m\u001b[0;34m\u001b[0m\u001b[0;34m\u001b[0m\u001b[0m\n\u001b[1;32m     33\u001b[0m         \u001b[0mtemp_train_loss\u001b[0m\u001b[0;34m.\u001b[0m\u001b[0mappend\u001b[0m\u001b[0;34m(\u001b[0m\u001b[0m_loss\u001b[0m\u001b[0;34m)\u001b[0m\u001b[0;34m\u001b[0m\u001b[0;34m\u001b[0m\u001b[0m\n",
            "\u001b[0;32m<ipython-input-42-91dd07937a03>\u001b[0m in \u001b[0;36mgenerate_training_samples\u001b[0;34m(features, labels, n_samples)\u001b[0m\n\u001b[1;32m      8\u001b[0m   \u001b[0mrows\u001b[0m \u001b[0;34m=\u001b[0m \u001b[0mnp\u001b[0m\u001b[0;34m.\u001b[0m\u001b[0mrandom\u001b[0m\u001b[0;34m.\u001b[0m\u001b[0mpermutation\u001b[0m\u001b[0;34m(\u001b[0m\u001b[0mfeatures\u001b[0m\u001b[0;34m.\u001b[0m\u001b[0mshape\u001b[0m\u001b[0;34m[\u001b[0m\u001b[0;36m0\u001b[0m\u001b[0;34m]\u001b[0m\u001b[0;34m)\u001b[0m\u001b[0;34m[\u001b[0m\u001b[0;36m0\u001b[0m\u001b[0;34m:\u001b[0m\u001b[0mn_samples\u001b[0m\u001b[0;34m]\u001b[0m\u001b[0;34m\u001b[0m\u001b[0;34m\u001b[0m\u001b[0m\n\u001b[1;32m      9\u001b[0m \u001b[0;34m\u001b[0m\u001b[0m\n\u001b[0;32m---> 10\u001b[0;31m   \u001b[0mx\u001b[0m \u001b[0;34m=\u001b[0m \u001b[0mfeatures\u001b[0m\u001b[0;34m[\u001b[0m\u001b[0mrows\u001b[0m\u001b[0;34m]\u001b[0m\u001b[0;34m.\u001b[0m\u001b[0mastype\u001b[0m\u001b[0;34m(\u001b[0m\u001b[0;34m\"float32\"\u001b[0m\u001b[0;34m)\u001b[0m\u001b[0;34m\u001b[0m\u001b[0;34m\u001b[0m\u001b[0m\n\u001b[0m\u001b[1;32m     11\u001b[0m   \u001b[0my\u001b[0m \u001b[0;34m=\u001b[0m \u001b[0mlabels\u001b[0m\u001b[0;34m[\u001b[0m\u001b[0mrows\u001b[0m\u001b[0;34m]\u001b[0m\u001b[0;34m.\u001b[0m\u001b[0mastype\u001b[0m\u001b[0;34m(\u001b[0m\u001b[0;34m\"float32\"\u001b[0m\u001b[0;34m)\u001b[0m\u001b[0;34m\u001b[0m\u001b[0;34m\u001b[0m\u001b[0m\n\u001b[1;32m     12\u001b[0m \u001b[0;34m\u001b[0m\u001b[0m\n",
            "\u001b[0;31mKeyboardInterrupt\u001b[0m: "
          ]
        }
      ]
    },
    {
      "cell_type": "markdown",
      "metadata": {
        "id": "SEE5sIbvpdPG"
      },
      "source": [
        "### Visualize losses"
      ]
    },
    {
      "cell_type": "code",
      "metadata": {
        "colab": {
          "base_uri": "https://localhost:8080/",
          "height": 265
        },
        "id": "jRnMb_tBMde0",
        "outputId": "8ccf63a5-3127-447f-8eb0-9691f25cf098"
      },
      "source": [
        "import matplotlib.pyplot as plt\n",
        "%matplotlib inline\n",
        "\n",
        "x = [SUMMARIZE_AFTER*i for i in range(len(train_loss))]\n",
        "plt.plot(x, train_loss)\n",
        "plt.plot(x, validation_loss)\n",
        "plt.show()"
      ],
      "execution_count": 54,
      "outputs": [
        {
          "output_type": "display_data",
          "data": {
            "image/png": "[encoded data removed]",
            "text/plain": [
              "<Figure size 432x288 with 1 Axes>"
            ]
          },
          "metadata": {
            "tags": [],
            "needs_background": "light"
          }
        }
      ]
    },
    {
      "cell_type": "code",
      "metadata": {
        "id": "EYmfiUZJ2opX",
        "outputId": "2fe51bb6-ff2a-4eef-d784-6111cfdcb9ec",
        "colab": {
          "base_uri": "https://localhost:8080/",
          "height": 463
        }
      },
      "source": [
        "from tensorflow.keras.models import load_model\n",
        "\n",
        "val_ids, val_features, val_labels = split_data(val)\n",
        "\n",
        "for epoch, model_name in enumerate(model_checkpoints):\n",
        "  temp_model = load_model(model_name)\n",
        "  summarize_performance(val_features, val_labels, temp_model, epoch)"
      ],
      "execution_count": 49,
      "outputs": [
        {
          "output_type": "stream",
          "text": [
            "1250/1250 [==============================] - 2s 2ms/step - loss: 1.8572 - accuracy: 0.3277\n",
            "1250/1250 [==============================] - 2s 2ms/step - loss: 1.8032 - accuracy: 0.3452\n",
            "1250/1250 [==============================] - 2s 2ms/step - loss: 1.7885 - accuracy: 0.3477\n",
            "1250/1250 [==============================] - 2s 2ms/step - loss: 1.7794 - accuracy: 0.3510\n",
            "1250/1250 [==============================] - 2s 2ms/step - loss: 1.7742 - accuracy: 0.3517\n",
            " 543/1250 [============>.................] - ETA: 1s - loss: 1.7815 - accuracy: 0.3530"
          ],
          "name": "stdout"
        },
        {
          "output_type": "error",
          "ename": "KeyboardInterrupt",
          "evalue": "ignored",
          "traceback": [
            "\u001b[0;31m---------------------------------------------------------------------------\u001b[0m",
            "\u001b[0;31mKeyboardInterrupt\u001b[0m                         Traceback (most recent call last)",
            "\u001b[0;32m<ipython-input-49-9d7f22a7b885>\u001b[0m in \u001b[0;36m<module>\u001b[0;34m()\u001b[0m\n\u001b[1;32m      5\u001b[0m \u001b[0;32mfor\u001b[0m \u001b[0mepoch\u001b[0m\u001b[0;34m,\u001b[0m \u001b[0mmodel_name\u001b[0m \u001b[0;32min\u001b[0m \u001b[0menumerate\u001b[0m\u001b[0;34m(\u001b[0m\u001b[0mmodel_checkpoints\u001b[0m\u001b[0;34m)\u001b[0m\u001b[0;34m:\u001b[0m\u001b[0;34m\u001b[0m\u001b[0;34m\u001b[0m\u001b[0m\n\u001b[1;32m      6\u001b[0m   \u001b[0mmodel\u001b[0m \u001b[0;34m=\u001b[0m \u001b[0mload_model\u001b[0m\u001b[0;34m(\u001b[0m\u001b[0mmodel_name\u001b[0m\u001b[0;34m)\u001b[0m\u001b[0;34m\u001b[0m\u001b[0;34m\u001b[0m\u001b[0m\n\u001b[0;32m----> 7\u001b[0;31m   \u001b[0msummarize_performance\u001b[0m\u001b[0;34m(\u001b[0m\u001b[0mval_features\u001b[0m\u001b[0;34m,\u001b[0m \u001b[0mval_labels\u001b[0m\u001b[0;34m,\u001b[0m \u001b[0mmodel\u001b[0m\u001b[0;34m,\u001b[0m \u001b[0mepoch\u001b[0m\u001b[0;34m)\u001b[0m\u001b[0;34m\u001b[0m\u001b[0;34m\u001b[0m\u001b[0m\n\u001b[0m",
            "\u001b[0;32m<ipython-input-42-91dd07937a03>\u001b[0m in \u001b[0;36msummarize_performance\u001b[0;34m(features, labels, model, epoch)\u001b[0m\n\u001b[1;32m     16\u001b[0m \u001b[0;32mdef\u001b[0m \u001b[0msummarize_performance\u001b[0m\u001b[0;34m(\u001b[0m\u001b[0mfeatures\u001b[0m\u001b[0;34m,\u001b[0m \u001b[0mlabels\u001b[0m\u001b[0;34m,\u001b[0m \u001b[0mmodel\u001b[0m\u001b[0;34m,\u001b[0m \u001b[0mepoch\u001b[0m\u001b[0;34m)\u001b[0m\u001b[0;34m:\u001b[0m\u001b[0;34m\u001b[0m\u001b[0;34m\u001b[0m\u001b[0m\n\u001b[1;32m     17\u001b[0m   \u001b[0mtrain_x\u001b[0m\u001b[0;34m,\u001b[0m \u001b[0mtrain_y\u001b[0m \u001b[0;34m=\u001b[0m \u001b[0mgenerate_training_samples\u001b[0m\u001b[0;34m(\u001b[0m\u001b[0mfeatures\u001b[0m\u001b[0;34m,\u001b[0m \u001b[0mlabels\u001b[0m\u001b[0;34m,\u001b[0m \u001b[0mfeatures\u001b[0m\u001b[0;34m.\u001b[0m\u001b[0mshape\u001b[0m\u001b[0;34m[\u001b[0m\u001b[0;36m0\u001b[0m\u001b[0;34m]\u001b[0m\u001b[0;34m)\u001b[0m\u001b[0;34m\u001b[0m\u001b[0;34m\u001b[0m\u001b[0m\n\u001b[0;32m---> 18\u001b[0;31m   \u001b[0m_loss\u001b[0m\u001b[0;34m,\u001b[0m \u001b[0m_accuracy\u001b[0m \u001b[0;34m=\u001b[0m \u001b[0mmodel\u001b[0m\u001b[0;34m.\u001b[0m\u001b[0mevaluate\u001b[0m\u001b[0;34m(\u001b[0m\u001b[0mtrain_x\u001b[0m\u001b[0;34m,\u001b[0m \u001b[0mtrain_y\u001b[0m\u001b[0;34m)\u001b[0m\u001b[0;34m\u001b[0m\u001b[0;34m\u001b[0m\u001b[0m\n\u001b[0m\u001b[1;32m     19\u001b[0m   \u001b[0;32mreturn\u001b[0m \u001b[0m_loss\u001b[0m\u001b[0;34m\u001b[0m\u001b[0;34m\u001b[0m\u001b[0m\n\u001b[1;32m     20\u001b[0m \u001b[0;34m\u001b[0m\u001b[0m\n",
            "\u001b[0;32m/usr/local/lib/python3.7/dist-packages/tensorflow/python/keras/engine/training.py\u001b[0m in \u001b[0;36mevaluate\u001b[0;34m(self, x, y, batch_size, verbose, sample_weight, steps, callbacks, max_queue_size, workers, use_multiprocessing, return_dict, **kwargs)\u001b[0m\n\u001b[1;32m   1487\u001b[0m             \u001b[0;32mwith\u001b[0m \u001b[0mtrace\u001b[0m\u001b[0;34m.\u001b[0m\u001b[0mTrace\u001b[0m\u001b[0;34m(\u001b[0m\u001b[0;34m'test'\u001b[0m\u001b[0;34m,\u001b[0m \u001b[0mstep_num\u001b[0m\u001b[0;34m=\u001b[0m\u001b[0mstep\u001b[0m\u001b[0;34m,\u001b[0m \u001b[0m_r\u001b[0m\u001b[0;34m=\u001b[0m\u001b[0;36m1\u001b[0m\u001b[0;34m)\u001b[0m\u001b[0;34m:\u001b[0m\u001b[0;34m\u001b[0m\u001b[0;34m\u001b[0m\u001b[0m\n\u001b[1;32m   1488\u001b[0m               \u001b[0mcallbacks\u001b[0m\u001b[0;34m.\u001b[0m\u001b[0mon_test_batch_begin\u001b[0m\u001b[0;34m(\u001b[0m\u001b[0mstep\u001b[0m\u001b[0;34m)\u001b[0m\u001b[0;34m\u001b[0m\u001b[0;34m\u001b[0m\u001b[0m\n\u001b[0;32m-> 1489\u001b[0;31m               \u001b[0mtmp_logs\u001b[0m \u001b[0;34m=\u001b[0m \u001b[0mself\u001b[0m\u001b[0;34m.\u001b[0m\u001b[0mtest_function\u001b[0m\u001b[0;34m(\u001b[0m\u001b[0miterator\u001b[0m\u001b[0;34m)\u001b[0m\u001b[0;34m\u001b[0m\u001b[0;34m\u001b[0m\u001b[0m\n\u001b[0m\u001b[1;32m   1490\u001b[0m               \u001b[0;32mif\u001b[0m \u001b[0mdata_handler\u001b[0m\u001b[0;34m.\u001b[0m\u001b[0mshould_sync\u001b[0m\u001b[0;34m:\u001b[0m\u001b[0;34m\u001b[0m\u001b[0;34m\u001b[0m\u001b[0m\n\u001b[1;32m   1491\u001b[0m                 \u001b[0mcontext\u001b[0m\u001b[0;34m.\u001b[0m\u001b[0masync_wait\u001b[0m\u001b[0;34m(\u001b[0m\u001b[0;34m)\u001b[0m\u001b[0;34m\u001b[0m\u001b[0;34m\u001b[0m\u001b[0m\n",
            "\u001b[0;32m/usr/local/lib/python3.7/dist-packages/tensorflow/python/eager/def_function.py\u001b[0m in \u001b[0;36m__call__\u001b[0;34m(self, *args, **kwds)\u001b[0m\n\u001b[1;32m    887\u001b[0m \u001b[0;34m\u001b[0m\u001b[0m\n\u001b[1;32m    888\u001b[0m       \u001b[0;32mwith\u001b[0m \u001b[0mOptionalXlaContext\u001b[0m\u001b[0;34m(\u001b[0m\u001b[0mself\u001b[0m\u001b[0;34m.\u001b[0m\u001b[0m_jit_compile\u001b[0m\u001b[0;34m)\u001b[0m\u001b[0;34m:\u001b[0m\u001b[0;34m\u001b[0m\u001b[0;34m\u001b[0m\u001b[0m\n\u001b[0;32m--> 889\u001b[0;31m         \u001b[0mresult\u001b[0m \u001b[0;34m=\u001b[0m \u001b[0mself\u001b[0m\u001b[0;34m.\u001b[0m\u001b[0m_call\u001b[0m\u001b[0;34m(\u001b[0m\u001b[0;34m*\u001b[0m\u001b[0margs\u001b[0m\u001b[0;34m,\u001b[0m \u001b[0;34m**\u001b[0m\u001b[0mkwds\u001b[0m\u001b[0;34m)\u001b[0m\u001b[0;34m\u001b[0m\u001b[0;34m\u001b[0m\u001b[0m\n\u001b[0m\u001b[1;32m    890\u001b[0m \u001b[0;34m\u001b[0m\u001b[0m\n\u001b[1;32m    891\u001b[0m       \u001b[0mnew_tracing_count\u001b[0m \u001b[0;34m=\u001b[0m \u001b[0mself\u001b[0m\u001b[0;34m.\u001b[0m\u001b[0mexperimental_get_tracing_count\u001b[0m\u001b[0;34m(\u001b[0m\u001b[0;34m)\u001b[0m\u001b[0;34m\u001b[0m\u001b[0;34m\u001b[0m\u001b[0m\n",
            "\u001b[0;32m/usr/local/lib/python3.7/dist-packages/tensorflow/python/eager/def_function.py\u001b[0m in \u001b[0;36m_call\u001b[0;34m(self, *args, **kwds)\u001b[0m\n\u001b[1;32m    922\u001b[0m       \u001b[0;31m# In this case we have not created variables on the first call. So we can\u001b[0m\u001b[0;34m\u001b[0m\u001b[0;34m\u001b[0m\u001b[0;34m\u001b[0m\u001b[0m\n\u001b[1;32m    923\u001b[0m       \u001b[0;31m# run the first trace but we should fail if variables are created.\u001b[0m\u001b[0;34m\u001b[0m\u001b[0;34m\u001b[0m\u001b[0;34m\u001b[0m\u001b[0m\n\u001b[0;32m--> 924\u001b[0;31m       \u001b[0mresults\u001b[0m \u001b[0;34m=\u001b[0m \u001b[0mself\u001b[0m\u001b[0;34m.\u001b[0m\u001b[0m_stateful_fn\u001b[0m\u001b[0;34m(\u001b[0m\u001b[0;34m*\u001b[0m\u001b[0margs\u001b[0m\u001b[0;34m,\u001b[0m \u001b[0;34m**\u001b[0m\u001b[0mkwds\u001b[0m\u001b[0;34m)\u001b[0m\u001b[0;34m\u001b[0m\u001b[0;34m\u001b[0m\u001b[0m\n\u001b[0m\u001b[1;32m    925\u001b[0m       \u001b[0;32mif\u001b[0m \u001b[0mself\u001b[0m\u001b[0;34m.\u001b[0m\u001b[0m_created_variables\u001b[0m\u001b[0;34m:\u001b[0m\u001b[0;34m\u001b[0m\u001b[0;34m\u001b[0m\u001b[0m\n\u001b[1;32m    926\u001b[0m         raise ValueError(\"Creating variables on a non-first call to a function\"\n",
            "\u001b[0;32m/usr/local/lib/python3.7/dist-packages/tensorflow/python/eager/function.py\u001b[0m in \u001b[0;36m__call__\u001b[0;34m(self, *args, **kwargs)\u001b[0m\n\u001b[1;32m   3022\u001b[0m        filtered_flat_args) = self._maybe_define_function(args, kwargs)\n\u001b[1;32m   3023\u001b[0m     return graph_function._call_flat(\n\u001b[0;32m-> 3024\u001b[0;31m         filtered_flat_args, captured_inputs=graph_function.captured_inputs)  # pylint: disable=protected-access\n\u001b[0m\u001b[1;32m   3025\u001b[0m \u001b[0;34m\u001b[0m\u001b[0m\n\u001b[1;32m   3026\u001b[0m   \u001b[0;34m@\u001b[0m\u001b[0mproperty\u001b[0m\u001b[0;34m\u001b[0m\u001b[0;34m\u001b[0m\u001b[0m\n",
            "\u001b[0;32m/usr/local/lib/python3.7/dist-packages/tensorflow/python/eager/function.py\u001b[0m in \u001b[0;36m_call_flat\u001b[0;34m(self, args, captured_inputs, cancellation_manager)\u001b[0m\n\u001b[1;32m   1959\u001b[0m       \u001b[0;31m# No tape is watching; skip to running the function.\u001b[0m\u001b[0;34m\u001b[0m\u001b[0;34m\u001b[0m\u001b[0;34m\u001b[0m\u001b[0m\n\u001b[1;32m   1960\u001b[0m       return self._build_call_outputs(self._inference_function.call(\n\u001b[0;32m-> 1961\u001b[0;31m           ctx, args, cancellation_manager=cancellation_manager))\n\u001b[0m\u001b[1;32m   1962\u001b[0m     forward_backward = self._select_forward_and_backward_functions(\n\u001b[1;32m   1963\u001b[0m         \u001b[0margs\u001b[0m\u001b[0;34m,\u001b[0m\u001b[0;34m\u001b[0m\u001b[0;34m\u001b[0m\u001b[0m\n",
            "\u001b[0;32m/usr/local/lib/python3.7/dist-packages/tensorflow/python/eager/function.py\u001b[0m in \u001b[0;36mcall\u001b[0;34m(self, ctx, args, cancellation_manager)\u001b[0m\n\u001b[1;32m    594\u001b[0m               \u001b[0minputs\u001b[0m\u001b[0;34m=\u001b[0m\u001b[0margs\u001b[0m\u001b[0;34m,\u001b[0m\u001b[0;34m\u001b[0m\u001b[0;34m\u001b[0m\u001b[0m\n\u001b[1;32m    595\u001b[0m               \u001b[0mattrs\u001b[0m\u001b[0;34m=\u001b[0m\u001b[0mattrs\u001b[0m\u001b[0;34m,\u001b[0m\u001b[0;34m\u001b[0m\u001b[0;34m\u001b[0m\u001b[0m\n\u001b[0;32m--> 596\u001b[0;31m               ctx=ctx)\n\u001b[0m\u001b[1;32m    597\u001b[0m         \u001b[0;32melse\u001b[0m\u001b[0;34m:\u001b[0m\u001b[0;34m\u001b[0m\u001b[0;34m\u001b[0m\u001b[0m\n\u001b[1;32m    598\u001b[0m           outputs = execute.execute_with_cancellation(\n",
            "\u001b[0;32m/usr/local/lib/python3.7/dist-packages/tensorflow/python/eager/execute.py\u001b[0m in \u001b[0;36mquick_execute\u001b[0;34m(op_name, num_outputs, inputs, attrs, ctx, name)\u001b[0m\n\u001b[1;32m     58\u001b[0m     \u001b[0mctx\u001b[0m\u001b[0;34m.\u001b[0m\u001b[0mensure_initialized\u001b[0m\u001b[0;34m(\u001b[0m\u001b[0;34m)\u001b[0m\u001b[0;34m\u001b[0m\u001b[0;34m\u001b[0m\u001b[0m\n\u001b[1;32m     59\u001b[0m     tensors = pywrap_tfe.TFE_Py_Execute(ctx._handle, device_name, op_name,\n\u001b[0;32m---> 60\u001b[0;31m                                         inputs, attrs, num_outputs)\n\u001b[0m\u001b[1;32m     61\u001b[0m   \u001b[0;32mexcept\u001b[0m \u001b[0mcore\u001b[0m\u001b[0;34m.\u001b[0m\u001b[0m_NotOkStatusException\u001b[0m \u001b[0;32mas\u001b[0m \u001b[0me\u001b[0m\u001b[0;34m:\u001b[0m\u001b[0;34m\u001b[0m\u001b[0;34m\u001b[0m\u001b[0m\n\u001b[1;32m     62\u001b[0m     \u001b[0;32mif\u001b[0m \u001b[0mname\u001b[0m \u001b[0;32mis\u001b[0m \u001b[0;32mnot\u001b[0m \u001b[0;32mNone\u001b[0m\u001b[0;34m:\u001b[0m\u001b[0;34m\u001b[0m\u001b[0;34m\u001b[0m\u001b[0m\n",
            "\u001b[0;31mKeyboardInterrupt\u001b[0m: "
          ]
        }
      ]
    },
    {
      "cell_type": "markdown",
      "metadata": {
        "id": "ERPHrQmFnrdj"
      },
      "source": [
        "### Run Test"
      ]
    },
    {
      "cell_type": "code",
      "metadata": {
        "id": "K3ls4OhQnyYO"
      },
      "source": [
        "import pandas as pd\n",
        "\n",
        "\n",
        "def predict_class(model, features):\n",
        "  features = np.expand_dims(features, axis=0)\n",
        "  return model.predict(features)\n",
        "\n",
        "def predict_testset(model, test_ids, test_features):\n",
        "  labels = [\"id\",\"Class_1\",\"Class_2\",\"Class_3\",\"Class_4\",\"Class_5\",\"Class_6\",\"Class_7\",\"Class_8\",\"Class_9\"]\n",
        "  \n",
        "  results = []\n",
        "  # ids = testset[:,0]\n",
        "  ids = test_ids.reshape((test_ids.shape[0]), 1)\n",
        "  ids = pd.DataFrame(data=ids, columns=[labels[0]])\n",
        "\n",
        "  # data = testset[:,1:]\n",
        "  results = model.predict(test_features)\n",
        "  results = pd.DataFrame(data=results, columns=labels[1:])\n",
        "\n",
        "  final = pd.concat([ids, results], axis=1)\n",
        "  # final = np.hstack((ids,results))\n",
        "\n",
        "  # return pd.DataFrame(data=final, columns=labels)\n",
        "  return final\n",
        "\n",
        "\n",
        "test_model = load_model(model_checkpoints[20])\n",
        "test_ids, test_features, _ = split_data(test, is_test=True)\n",
        "results = predict_testset(model, test_ids, test_features)\n",
        "results.to_csv(\"submission.csv\", index=False)\n",
        "# print(results)"
      ],
      "execution_count": 62,
      "outputs": []
    },
    {
      "cell_type": "markdown",
      "metadata": {
        "id": "JZfu_PgDMrBW"
      },
      "source": [
        "### UMAP"
      ]
    },
    {
      "cell_type": "code",
      "metadata": {
        "id": "5Ct7HXMTMLxJ"
      },
      "source": [
        "!pip install umap-learn\n",
        "!pip install babyplots\n",
        "!pip install hdbscan "
      ],
      "execution_count": null,
      "outputs": []
    },
    {
      "cell_type": "code",
      "metadata": {
        "id": "GG7FnLQB6WXZ"
      },
      "source": [
        "import umap\n",
        "from sklearn.model_selection import train_test_split\n",
        "from sklearn.preprocessing import StandardScaler\n",
        "from sklearn import preprocessing\n",
        "from babyplots import Babyplot\n",
        "import hdbscan\n",
        "\n",
        "\n",
        "\n",
        "dataset = raw_dataset.to_numpy()[:,1:-1]\n",
        "labels = raw_dataset.to_numpy()[:,-1]\n",
        "\n",
        "dataset = StandardScaler().fit_transform(dataset)\n",
        "\n",
        "le = preprocessing.LabelEncoder()\n",
        "class_names = [\"Class_1\", \"Class_2\", \"Class_3\", \"Class_4\", \"Class_5\", \"Class_6\", \"Class_7\", \"Class_8\", \"Class_9\"]\n",
        "le.fit(class_names)\n",
        "labels = le.transform(labels)\n",
        "\n",
        "print(labels)\n",
        "print(dataset)\n",
        "X_train, X_test, y_train, y_test = train_test_split(dataset, labels, test_size=0.30)\n",
        "reducer2d = umap.UMAP(n_neighbors=20,\n",
        "                        min_dist=0.0,\n",
        "                        n_components=2,\n",
        "                        random_state=42, metric='euclidean', target_weight=0)\n",
        "\n",
        "reducer3d = umap.UMAP(n_neighbors=20,\n",
        "                      min_dist=0.0,\n",
        "                      n_components=3,\n",
        "                      random_state=42, metric='euclidean', target_weight=0)\n",
        "\n",
        "# mapper2d = reducer2d.fit(X_train, y_train)\n",
        "mapper3d = reducer3d.fit(X_train, y_train)\n",
        "\n",
        "# embedding2d_train = mapper2d.transform(X_train)\n",
        "embedding3d_train = mapper3d.transform(X_train)\n",
        "\n",
        "\n",
        "\n",
        "# embedding2d_test = mapper2d.transform(X_test)\n",
        "embedding3d_test = mapper3d.transform(X_test)\n",
        "\n",
        "# embedding2d = embedding2d_train.tolist() + embedding2d_test.tolist()\n",
        "embedding3d = embedding3d_train.tolist() + embedding3d_test.tolist()\n",
        "# y_test \n",
        "print(y_test.shape)\n",
        "# y_test = np.where(y_test >= 1, 'RI', 'DE')\n",
        "y_plot = y_train.tolist() + y_test.tolist()\n",
        "bp = Babyplot(background_color=\"#ffffddff\", )\n",
        "bp.add_plot(embedding3d, 'pointCloud', 'categories', y_plot, {\n",
        "    'colorScale': 'Viridis',\n",
        "    'showLegend': True,\n",
        "    'folded': True,\n",
        "    'size': 5,\n",
        "    'showAxes': [True, True, True],\n",
        "    'axisLabels': ['X', 'Y', 'Z'],\n",
        "    'showTickLines': [[True, True], [True, True], [True, True]]\n",
        "})\n",
        "bp.save_as_html(r'/content/test3.html')\n"
      ],
      "execution_count": null,
      "outputs": []
    },
    {
      "cell_type": "code",
      "metadata": {
        "id": "gU9_sM1Amhg3"
      },
      "source": [
        "import hdbscan\n",
        "from sklearn.model_selection import train_test_split\n",
        "\n",
        "\n",
        "dataset = raw_dataset.to_numpy()[:,1:-1]\n",
        "labels = raw_dataset.to_numpy()[:,-1]\n",
        "\n",
        "X_train, X_test, y_train, y_test = train_test_split(dataset, labels, test_size=0.30)"
      ],
      "execution_count": null,
      "outputs": []
    },
    {
      "cell_type": "code",
      "metadata": {
        "id": "2tFXKnlQmicB"
      },
      "source": [
        "hdbscan_labels = hdbscan.HDBSCAN(min_samples=10, min_cluster_size=500).fit_predict(X_train, y_train)"
      ],
      "execution_count": null,
      "outputs": []
    }
  ]
}